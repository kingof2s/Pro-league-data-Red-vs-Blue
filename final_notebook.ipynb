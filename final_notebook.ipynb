{
 "cells": [
  {
   "cell_type": "markdown",
   "metadata": {},
   "source": [
    "# Your Title Here\n",
    "\n",
    "**Name(s)**: (your name(s) here)\n",
    "\n",
    "**Website Link**: (your website link)"
   ]
  },
  {
   "cell_type": "markdown",
   "metadata": {},
   "source": [
    "## Code"
   ]
  },
  {
   "cell_type": "code",
   "execution_count": 2,
   "metadata": {
    "ExecuteTime": {
     "end_time": "2019-10-31T23:36:28.652554Z",
     "start_time": "2019-10-31T23:36:27.180520Z"
    }
   },
   "outputs": [],
   "source": [
    "import pandas as pd\n",
    "import numpy as np\n",
    "import os\n",
    "\n",
    "import plotly.express as px\n",
    "pd.options.plotting.backend = 'plotly'"
   ]
  },
  {
   "cell_type": "markdown",
   "metadata": {},
   "source": [
    "### Cleaning and EDA"
   ]
  },
  {
   "cell_type": "code",
   "execution_count": 71,
   "metadata": {},
   "outputs": [
    {
     "data": {
      "application/json": {
       "ascii": false,
       "bar_format": null,
       "colour": null,
       "elapsed": 0.002998828887939453,
       "initial": 0,
       "n": 0,
       "ncols": null,
       "nrows": null,
       "postfix": null,
       "prefix": "",
       "rate": null,
       "total": 10,
       "unit": "it",
       "unit_divisor": 1000,
       "unit_scale": false
      },
      "application/vnd.jupyter.widget-view+json": {
       "model_id": "a28b2079a38941e0aef47229e6a8a80f",
       "version_major": 2,
       "version_minor": 0
      },
      "text/plain": [
       "  0%|          | 0/10 [00:00<?, ?it/s]"
      ]
     },
     "metadata": {},
     "output_type": "display_data"
    },
    {
     "data": {
      "text/html": [
       "<div>\n",
       "<style scoped>\n",
       "    .dataframe tbody tr th:only-of-type {\n",
       "        vertical-align: middle;\n",
       "    }\n",
       "\n",
       "    .dataframe tbody tr th {\n",
       "        vertical-align: top;\n",
       "    }\n",
       "\n",
       "    .dataframe thead th {\n",
       "        text-align: right;\n",
       "    }\n",
       "</style>\n",
       "<table border=\"1\" class=\"dataframe\">\n",
       "  <thead>\n",
       "    <tr style=\"text-align: right;\">\n",
       "      <th></th>\n",
       "      <th>gameid</th>\n",
       "      <th>datacompleteness</th>\n",
       "      <th>league</th>\n",
       "      <th>year</th>\n",
       "      <th>date</th>\n",
       "      <th>game</th>\n",
       "      <th>patch</th>\n",
       "      <th>side</th>\n",
       "      <th>position</th>\n",
       "      <th>playername</th>\n",
       "      <th>teamname</th>\n",
       "      <th>champion</th>\n",
       "      <th>gamelength</th>\n",
       "      <th>result</th>\n",
       "      <th>dragons</th>\n",
       "      <th>elders</th>\n",
       "      <th>opp_elders</th>\n",
       "      <th>heralds</th>\n",
       "      <th>barons</th>\n",
       "      <th>opp_barons</th>\n",
       "      <th>towers</th>\n",
       "      <th>inhibitors</th>\n",
       "      <th>vspm</th>\n",
       "    </tr>\n",
       "  </thead>\n",
       "  <tbody>\n",
       "    <tr>\n",
       "      <th>0</th>\n",
       "      <td>TRLH3/33</td>\n",
       "      <td>complete</td>\n",
       "      <td>EU LCS</td>\n",
       "      <td>2014</td>\n",
       "      <td>2014-01-14 17:52:02</td>\n",
       "      <td>1.0</td>\n",
       "      <td>3.15</td>\n",
       "      <td>Blue</td>\n",
       "      <td>top</td>\n",
       "      <td>sOAZ</td>\n",
       "      <td>Fnatic</td>\n",
       "      <td>Trundle</td>\n",
       "      <td>1924</td>\n",
       "      <td>1</td>\n",
       "      <td>NaN</td>\n",
       "      <td>NaN</td>\n",
       "      <td>NaN</td>\n",
       "      <td>NaN</td>\n",
       "      <td>NaN</td>\n",
       "      <td>NaN</td>\n",
       "      <td>NaN</td>\n",
       "      <td>0.0</td>\n",
       "      <td>0.0000</td>\n",
       "    </tr>\n",
       "    <tr>\n",
       "      <th>1</th>\n",
       "      <td>TRLH3/33</td>\n",
       "      <td>complete</td>\n",
       "      <td>EU LCS</td>\n",
       "      <td>2014</td>\n",
       "      <td>2014-01-14 17:52:02</td>\n",
       "      <td>1.0</td>\n",
       "      <td>3.15</td>\n",
       "      <td>Blue</td>\n",
       "      <td>jng</td>\n",
       "      <td>Cyanide</td>\n",
       "      <td>Fnatic</td>\n",
       "      <td>Vi</td>\n",
       "      <td>1924</td>\n",
       "      <td>1</td>\n",
       "      <td>NaN</td>\n",
       "      <td>NaN</td>\n",
       "      <td>NaN</td>\n",
       "      <td>NaN</td>\n",
       "      <td>NaN</td>\n",
       "      <td>NaN</td>\n",
       "      <td>NaN</td>\n",
       "      <td>1.0</td>\n",
       "      <td>0.0000</td>\n",
       "    </tr>\n",
       "    <tr>\n",
       "      <th>2</th>\n",
       "      <td>TRLH3/33</td>\n",
       "      <td>complete</td>\n",
       "      <td>EU LCS</td>\n",
       "      <td>2014</td>\n",
       "      <td>2014-01-14 17:52:02</td>\n",
       "      <td>1.0</td>\n",
       "      <td>3.15</td>\n",
       "      <td>Blue</td>\n",
       "      <td>mid</td>\n",
       "      <td>xPeke</td>\n",
       "      <td>Fnatic</td>\n",
       "      <td>Orianna</td>\n",
       "      <td>1924</td>\n",
       "      <td>1</td>\n",
       "      <td>NaN</td>\n",
       "      <td>NaN</td>\n",
       "      <td>NaN</td>\n",
       "      <td>NaN</td>\n",
       "      <td>NaN</td>\n",
       "      <td>NaN</td>\n",
       "      <td>NaN</td>\n",
       "      <td>0.0</td>\n",
       "      <td>0.0000</td>\n",
       "    </tr>\n",
       "    <tr>\n",
       "      <th>3</th>\n",
       "      <td>TRLH3/33</td>\n",
       "      <td>complete</td>\n",
       "      <td>EU LCS</td>\n",
       "      <td>2014</td>\n",
       "      <td>2014-01-14 17:52:02</td>\n",
       "      <td>1.0</td>\n",
       "      <td>3.15</td>\n",
       "      <td>Blue</td>\n",
       "      <td>bot</td>\n",
       "      <td>Rekkles</td>\n",
       "      <td>Fnatic</td>\n",
       "      <td>Jinx</td>\n",
       "      <td>1924</td>\n",
       "      <td>1</td>\n",
       "      <td>NaN</td>\n",
       "      <td>NaN</td>\n",
       "      <td>NaN</td>\n",
       "      <td>NaN</td>\n",
       "      <td>NaN</td>\n",
       "      <td>NaN</td>\n",
       "      <td>NaN</td>\n",
       "      <td>1.0</td>\n",
       "      <td>0.0000</td>\n",
       "    </tr>\n",
       "    <tr>\n",
       "      <th>4</th>\n",
       "      <td>TRLH3/33</td>\n",
       "      <td>complete</td>\n",
       "      <td>EU LCS</td>\n",
       "      <td>2014</td>\n",
       "      <td>2014-01-14 17:52:02</td>\n",
       "      <td>1.0</td>\n",
       "      <td>3.15</td>\n",
       "      <td>Blue</td>\n",
       "      <td>sup</td>\n",
       "      <td>YellOwStaR</td>\n",
       "      <td>Fnatic</td>\n",
       "      <td>Annie</td>\n",
       "      <td>1924</td>\n",
       "      <td>1</td>\n",
       "      <td>NaN</td>\n",
       "      <td>NaN</td>\n",
       "      <td>NaN</td>\n",
       "      <td>NaN</td>\n",
       "      <td>NaN</td>\n",
       "      <td>NaN</td>\n",
       "      <td>NaN</td>\n",
       "      <td>0.0</td>\n",
       "      <td>0.0000</td>\n",
       "    </tr>\n",
       "    <tr>\n",
       "      <th>...</th>\n",
       "      <td>...</td>\n",
       "      <td>...</td>\n",
       "      <td>...</td>\n",
       "      <td>...</td>\n",
       "      <td>...</td>\n",
       "      <td>...</td>\n",
       "      <td>...</td>\n",
       "      <td>...</td>\n",
       "      <td>...</td>\n",
       "      <td>...</td>\n",
       "      <td>...</td>\n",
       "      <td>...</td>\n",
       "      <td>...</td>\n",
       "      <td>...</td>\n",
       "      <td>...</td>\n",
       "      <td>...</td>\n",
       "      <td>...</td>\n",
       "      <td>...</td>\n",
       "      <td>...</td>\n",
       "      <td>...</td>\n",
       "      <td>...</td>\n",
       "      <td>...</td>\n",
       "      <td>...</td>\n",
       "    </tr>\n",
       "    <tr>\n",
       "      <th>129343</th>\n",
       "      <td>ESPORTSTMNT02_3251457</td>\n",
       "      <td>complete</td>\n",
       "      <td>NEXO</td>\n",
       "      <td>2024</td>\n",
       "      <td>2023-11-13 20:32:25</td>\n",
       "      <td>1.0</td>\n",
       "      <td>13.21</td>\n",
       "      <td>Red</td>\n",
       "      <td>mid</td>\n",
       "      <td>Tirex</td>\n",
       "      <td>Universae Instituto FP</td>\n",
       "      <td>Ahri</td>\n",
       "      <td>1910</td>\n",
       "      <td>1</td>\n",
       "      <td>NaN</td>\n",
       "      <td>NaN</td>\n",
       "      <td>NaN</td>\n",
       "      <td>NaN</td>\n",
       "      <td>0.0</td>\n",
       "      <td>0.0</td>\n",
       "      <td>NaN</td>\n",
       "      <td>0.0</td>\n",
       "      <td>1.6963</td>\n",
       "    </tr>\n",
       "    <tr>\n",
       "      <th>129344</th>\n",
       "      <td>ESPORTSTMNT02_3251457</td>\n",
       "      <td>complete</td>\n",
       "      <td>NEXO</td>\n",
       "      <td>2024</td>\n",
       "      <td>2023-11-13 20:32:25</td>\n",
       "      <td>1.0</td>\n",
       "      <td>13.21</td>\n",
       "      <td>Red</td>\n",
       "      <td>bot</td>\n",
       "      <td>Alonshot</td>\n",
       "      <td>Universae Instituto FP</td>\n",
       "      <td>Aphelios</td>\n",
       "      <td>1910</td>\n",
       "      <td>1</td>\n",
       "      <td>NaN</td>\n",
       "      <td>NaN</td>\n",
       "      <td>NaN</td>\n",
       "      <td>NaN</td>\n",
       "      <td>0.0</td>\n",
       "      <td>0.0</td>\n",
       "      <td>NaN</td>\n",
       "      <td>0.0</td>\n",
       "      <td>0.9110</td>\n",
       "    </tr>\n",
       "    <tr>\n",
       "      <th>129345</th>\n",
       "      <td>ESPORTSTMNT02_3251457</td>\n",
       "      <td>complete</td>\n",
       "      <td>NEXO</td>\n",
       "      <td>2024</td>\n",
       "      <td>2023-11-13 20:32:25</td>\n",
       "      <td>1.0</td>\n",
       "      <td>13.21</td>\n",
       "      <td>Red</td>\n",
       "      <td>sup</td>\n",
       "      <td>Boohis</td>\n",
       "      <td>Universae Instituto FP</td>\n",
       "      <td>Rakan</td>\n",
       "      <td>1910</td>\n",
       "      <td>1</td>\n",
       "      <td>NaN</td>\n",
       "      <td>NaN</td>\n",
       "      <td>NaN</td>\n",
       "      <td>NaN</td>\n",
       "      <td>0.0</td>\n",
       "      <td>0.0</td>\n",
       "      <td>NaN</td>\n",
       "      <td>0.0</td>\n",
       "      <td>5.0890</td>\n",
       "    </tr>\n",
       "    <tr>\n",
       "      <th>129346</th>\n",
       "      <td>ESPORTSTMNT02_3251457</td>\n",
       "      <td>complete</td>\n",
       "      <td>NEXO</td>\n",
       "      <td>2024</td>\n",
       "      <td>2023-11-13 20:32:25</td>\n",
       "      <td>1.0</td>\n",
       "      <td>13.21</td>\n",
       "      <td>Blue</td>\n",
       "      <td>team</td>\n",
       "      <td>NaN</td>\n",
       "      <td>Erfolg Esports</td>\n",
       "      <td>NaN</td>\n",
       "      <td>1910</td>\n",
       "      <td>0</td>\n",
       "      <td>2.0</td>\n",
       "      <td>0.0</td>\n",
       "      <td>0.0</td>\n",
       "      <td>0.0</td>\n",
       "      <td>0.0</td>\n",
       "      <td>1.0</td>\n",
       "      <td>2.0</td>\n",
       "      <td>0.0</td>\n",
       "      <td>8.3246</td>\n",
       "    </tr>\n",
       "    <tr>\n",
       "      <th>129347</th>\n",
       "      <td>ESPORTSTMNT02_3251457</td>\n",
       "      <td>complete</td>\n",
       "      <td>NEXO</td>\n",
       "      <td>2024</td>\n",
       "      <td>2023-11-13 20:32:25</td>\n",
       "      <td>1.0</td>\n",
       "      <td>13.21</td>\n",
       "      <td>Red</td>\n",
       "      <td>team</td>\n",
       "      <td>NaN</td>\n",
       "      <td>Universae Instituto FP</td>\n",
       "      <td>NaN</td>\n",
       "      <td>1910</td>\n",
       "      <td>1</td>\n",
       "      <td>2.0</td>\n",
       "      <td>0.0</td>\n",
       "      <td>0.0</td>\n",
       "      <td>2.0</td>\n",
       "      <td>1.0</td>\n",
       "      <td>0.0</td>\n",
       "      <td>10.0</td>\n",
       "      <td>2.0</td>\n",
       "      <td>9.9895</td>\n",
       "    </tr>\n",
       "  </tbody>\n",
       "</table>\n",
       "<p>876336 rows × 23 columns</p>\n",
       "</div>"
      ],
      "text/plain": [
       "                       gameid datacompleteness  league  year  \\\n",
       "0                    TRLH3/33         complete  EU LCS  2014   \n",
       "1                    TRLH3/33         complete  EU LCS  2014   \n",
       "2                    TRLH3/33         complete  EU LCS  2014   \n",
       "3                    TRLH3/33         complete  EU LCS  2014   \n",
       "4                    TRLH3/33         complete  EU LCS  2014   \n",
       "...                       ...              ...     ...   ...   \n",
       "129343  ESPORTSTMNT02_3251457         complete    NEXO  2024   \n",
       "129344  ESPORTSTMNT02_3251457         complete    NEXO  2024   \n",
       "129345  ESPORTSTMNT02_3251457         complete    NEXO  2024   \n",
       "129346  ESPORTSTMNT02_3251457         complete    NEXO  2024   \n",
       "129347  ESPORTSTMNT02_3251457         complete    NEXO  2024   \n",
       "\n",
       "                       date  game  patch  side position  playername  \\\n",
       "0       2014-01-14 17:52:02   1.0   3.15  Blue      top        sOAZ   \n",
       "1       2014-01-14 17:52:02   1.0   3.15  Blue      jng     Cyanide   \n",
       "2       2014-01-14 17:52:02   1.0   3.15  Blue      mid       xPeke   \n",
       "3       2014-01-14 17:52:02   1.0   3.15  Blue      bot     Rekkles   \n",
       "4       2014-01-14 17:52:02   1.0   3.15  Blue      sup  YellOwStaR   \n",
       "...                     ...   ...    ...   ...      ...         ...   \n",
       "129343  2023-11-13 20:32:25   1.0  13.21   Red      mid       Tirex   \n",
       "129344  2023-11-13 20:32:25   1.0  13.21   Red      bot    Alonshot   \n",
       "129345  2023-11-13 20:32:25   1.0  13.21   Red      sup      Boohis   \n",
       "129346  2023-11-13 20:32:25   1.0  13.21  Blue     team         NaN   \n",
       "129347  2023-11-13 20:32:25   1.0  13.21   Red     team         NaN   \n",
       "\n",
       "                      teamname  champion  gamelength  result  dragons  elders  \\\n",
       "0                       Fnatic   Trundle        1924       1      NaN     NaN   \n",
       "1                       Fnatic        Vi        1924       1      NaN     NaN   \n",
       "2                       Fnatic   Orianna        1924       1      NaN     NaN   \n",
       "3                       Fnatic      Jinx        1924       1      NaN     NaN   \n",
       "4                       Fnatic     Annie        1924       1      NaN     NaN   \n",
       "...                        ...       ...         ...     ...      ...     ...   \n",
       "129343  Universae Instituto FP      Ahri        1910       1      NaN     NaN   \n",
       "129344  Universae Instituto FP  Aphelios        1910       1      NaN     NaN   \n",
       "129345  Universae Instituto FP     Rakan        1910       1      NaN     NaN   \n",
       "129346          Erfolg Esports       NaN        1910       0      2.0     0.0   \n",
       "129347  Universae Instituto FP       NaN        1910       1      2.0     0.0   \n",
       "\n",
       "        opp_elders  heralds  barons  opp_barons  towers  inhibitors    vspm  \n",
       "0              NaN      NaN     NaN         NaN     NaN         0.0  0.0000  \n",
       "1              NaN      NaN     NaN         NaN     NaN         1.0  0.0000  \n",
       "2              NaN      NaN     NaN         NaN     NaN         0.0  0.0000  \n",
       "3              NaN      NaN     NaN         NaN     NaN         1.0  0.0000  \n",
       "4              NaN      NaN     NaN         NaN     NaN         0.0  0.0000  \n",
       "...            ...      ...     ...         ...     ...         ...     ...  \n",
       "129343         NaN      NaN     0.0         0.0     NaN         0.0  1.6963  \n",
       "129344         NaN      NaN     0.0         0.0     NaN         0.0  0.9110  \n",
       "129345         NaN      NaN     0.0         0.0     NaN         0.0  5.0890  \n",
       "129346         0.0      0.0     0.0         1.0     2.0         0.0  8.3246  \n",
       "129347         0.0      2.0     1.0         0.0    10.0         2.0  9.9895  \n",
       "\n",
       "[876336 rows x 23 columns]"
      ]
     },
     "execution_count": 71,
     "metadata": {},
     "output_type": "execute_result"
    }
   ],
   "source": [
    "# Reading the data\n",
    "fp = r\"data\\2014_LoL_esports_match_data_from_OraclesElixir.csv\"\n",
    "df = pd.read_csv(fp, index_col=0)\n",
    "from tqdm.notebook import tqdm\n",
    "import os\n",
    "\n",
    "pd.set_option('display.max_columns', None)\n",
    "\n",
    "directory = r'data'\n",
    "usecols = ['gameid','datacompleteness', 'league', 'year', 'date', 'game', 'patch', \n",
    "           'side', 'position', 'playername', 'teamname', 'champion', 'gamelength', 'result',\n",
    "           'heralds', 'towers', 'inhibitors', 'barons', 'opp_barons','dragons', 'elders', 'opp_elders', 'vspm']\n",
    "\n",
    "df = pd.DataFrame()\n",
    "for filename in tqdm(os.listdir(directory)):\n",
    "    new_df = pd.read_csv(os.path.join(directory, filename), usecols=usecols)\n",
    "    df = pd.concat([df, new_df])\n",
    "df"
   ]
  },
  {
   "cell_type": "code",
   "execution_count": 72,
   "metadata": {},
   "outputs": [
    {
     "data": {
      "text/html": [
       "<div>\n",
       "<style scoped>\n",
       "    .dataframe tbody tr th:only-of-type {\n",
       "        vertical-align: middle;\n",
       "    }\n",
       "\n",
       "    .dataframe tbody tr th {\n",
       "        vertical-align: top;\n",
       "    }\n",
       "\n",
       "    .dataframe thead th {\n",
       "        text-align: right;\n",
       "    }\n",
       "</style>\n",
       "<table border=\"1\" class=\"dataframe\">\n",
       "  <thead>\n",
       "    <tr style=\"text-align: right;\">\n",
       "      <th></th>\n",
       "      <th>gameid</th>\n",
       "      <th>datacompleteness</th>\n",
       "      <th>league</th>\n",
       "      <th>year</th>\n",
       "      <th>date</th>\n",
       "      <th>game</th>\n",
       "      <th>patch</th>\n",
       "      <th>side</th>\n",
       "      <th>position</th>\n",
       "      <th>playername</th>\n",
       "      <th>teamname</th>\n",
       "      <th>champion</th>\n",
       "      <th>gamelength</th>\n",
       "      <th>result</th>\n",
       "      <th>dragons</th>\n",
       "      <th>elders</th>\n",
       "      <th>opp_elders</th>\n",
       "      <th>heralds</th>\n",
       "      <th>barons</th>\n",
       "      <th>opp_barons</th>\n",
       "      <th>towers</th>\n",
       "      <th>inhibitors</th>\n",
       "      <th>vspm</th>\n",
       "      <th>Win?</th>\n",
       "    </tr>\n",
       "  </thead>\n",
       "  <tbody>\n",
       "    <tr>\n",
       "      <th>32640</th>\n",
       "      <td>ESPORTSTMNT02/180233</td>\n",
       "      <td>complete</td>\n",
       "      <td>EU CS</td>\n",
       "      <td>2017</td>\n",
       "      <td>2017-05-23 14:28:30</td>\n",
       "      <td>1.0</td>\n",
       "      <td>7.10</td>\n",
       "      <td>Blue</td>\n",
       "      <td>top</td>\n",
       "      <td>Rifty</td>\n",
       "      <td>MNM Gaming</td>\n",
       "      <td>Camille</td>\n",
       "      <td>2387</td>\n",
       "      <td>1</td>\n",
       "      <td>NaN</td>\n",
       "      <td>NaN</td>\n",
       "      <td>NaN</td>\n",
       "      <td>NaN</td>\n",
       "      <td>NaN</td>\n",
       "      <td>NaN</td>\n",
       "      <td>NaN</td>\n",
       "      <td>0.0</td>\n",
       "      <td>0.9803</td>\n",
       "      <td>Win</td>\n",
       "    </tr>\n",
       "    <tr>\n",
       "      <th>32641</th>\n",
       "      <td>ESPORTSTMNT02/180233</td>\n",
       "      <td>complete</td>\n",
       "      <td>EU CS</td>\n",
       "      <td>2017</td>\n",
       "      <td>2017-05-23 14:28:30</td>\n",
       "      <td>1.0</td>\n",
       "      <td>7.10</td>\n",
       "      <td>Blue</td>\n",
       "      <td>jng</td>\n",
       "      <td>Kadir</td>\n",
       "      <td>MNM Gaming</td>\n",
       "      <td>Lee Sin</td>\n",
       "      <td>2387</td>\n",
       "      <td>1</td>\n",
       "      <td>NaN</td>\n",
       "      <td>NaN</td>\n",
       "      <td>NaN</td>\n",
       "      <td>NaN</td>\n",
       "      <td>NaN</td>\n",
       "      <td>NaN</td>\n",
       "      <td>NaN</td>\n",
       "      <td>0.0</td>\n",
       "      <td>2.0612</td>\n",
       "      <td>Win</td>\n",
       "    </tr>\n",
       "    <tr>\n",
       "      <th>32642</th>\n",
       "      <td>ESPORTSTMNT02/180233</td>\n",
       "      <td>complete</td>\n",
       "      <td>EU CS</td>\n",
       "      <td>2017</td>\n",
       "      <td>2017-05-23 14:28:30</td>\n",
       "      <td>1.0</td>\n",
       "      <td>7.10</td>\n",
       "      <td>Blue</td>\n",
       "      <td>mid</td>\n",
       "      <td>Larssen</td>\n",
       "      <td>MNM Gaming</td>\n",
       "      <td>Orianna</td>\n",
       "      <td>2387</td>\n",
       "      <td>1</td>\n",
       "      <td>NaN</td>\n",
       "      <td>NaN</td>\n",
       "      <td>NaN</td>\n",
       "      <td>NaN</td>\n",
       "      <td>NaN</td>\n",
       "      <td>NaN</td>\n",
       "      <td>NaN</td>\n",
       "      <td>0.0</td>\n",
       "      <td>0.6033</td>\n",
       "      <td>Win</td>\n",
       "    </tr>\n",
       "    <tr>\n",
       "      <th>32643</th>\n",
       "      <td>ESPORTSTMNT02/180233</td>\n",
       "      <td>complete</td>\n",
       "      <td>EU CS</td>\n",
       "      <td>2017</td>\n",
       "      <td>2017-05-23 14:28:30</td>\n",
       "      <td>1.0</td>\n",
       "      <td>7.10</td>\n",
       "      <td>Blue</td>\n",
       "      <td>bot</td>\n",
       "      <td>Luddehz</td>\n",
       "      <td>MNM Gaming</td>\n",
       "      <td>Ashe</td>\n",
       "      <td>2387</td>\n",
       "      <td>1</td>\n",
       "      <td>NaN</td>\n",
       "      <td>NaN</td>\n",
       "      <td>NaN</td>\n",
       "      <td>NaN</td>\n",
       "      <td>NaN</td>\n",
       "      <td>NaN</td>\n",
       "      <td>NaN</td>\n",
       "      <td>1.0</td>\n",
       "      <td>1.1311</td>\n",
       "      <td>Win</td>\n",
       "    </tr>\n",
       "    <tr>\n",
       "      <th>32644</th>\n",
       "      <td>ESPORTSTMNT02/180233</td>\n",
       "      <td>complete</td>\n",
       "      <td>EU CS</td>\n",
       "      <td>2017</td>\n",
       "      <td>2017-05-23 14:28:30</td>\n",
       "      <td>1.0</td>\n",
       "      <td>7.10</td>\n",
       "      <td>Blue</td>\n",
       "      <td>sup</td>\n",
       "      <td>Hadow</td>\n",
       "      <td>MNM Gaming</td>\n",
       "      <td>Karma</td>\n",
       "      <td>2387</td>\n",
       "      <td>1</td>\n",
       "      <td>NaN</td>\n",
       "      <td>NaN</td>\n",
       "      <td>NaN</td>\n",
       "      <td>NaN</td>\n",
       "      <td>NaN</td>\n",
       "      <td>NaN</td>\n",
       "      <td>NaN</td>\n",
       "      <td>0.0</td>\n",
       "      <td>2.8655</td>\n",
       "      <td>Win</td>\n",
       "    </tr>\n",
       "    <tr>\n",
       "      <th>...</th>\n",
       "      <td>...</td>\n",
       "      <td>...</td>\n",
       "      <td>...</td>\n",
       "      <td>...</td>\n",
       "      <td>...</td>\n",
       "      <td>...</td>\n",
       "      <td>...</td>\n",
       "      <td>...</td>\n",
       "      <td>...</td>\n",
       "      <td>...</td>\n",
       "      <td>...</td>\n",
       "      <td>...</td>\n",
       "      <td>...</td>\n",
       "      <td>...</td>\n",
       "      <td>...</td>\n",
       "      <td>...</td>\n",
       "      <td>...</td>\n",
       "      <td>...</td>\n",
       "      <td>...</td>\n",
       "      <td>...</td>\n",
       "      <td>...</td>\n",
       "      <td>...</td>\n",
       "      <td>...</td>\n",
       "      <td>...</td>\n",
       "    </tr>\n",
       "    <tr>\n",
       "      <th>122635</th>\n",
       "      <td>ESPORTSTMNT05_3242449</td>\n",
       "      <td>complete</td>\n",
       "      <td>CDF</td>\n",
       "      <td>2023</td>\n",
       "      <td>2023-09-29 17:15:44</td>\n",
       "      <td>3.0</td>\n",
       "      <td>13.18</td>\n",
       "      <td>Red</td>\n",
       "      <td>mid</td>\n",
       "      <td>Peng</td>\n",
       "      <td>Solary</td>\n",
       "      <td>Lucian</td>\n",
       "      <td>1550</td>\n",
       "      <td>0</td>\n",
       "      <td>NaN</td>\n",
       "      <td>NaN</td>\n",
       "      <td>NaN</td>\n",
       "      <td>NaN</td>\n",
       "      <td>0.0</td>\n",
       "      <td>0.0</td>\n",
       "      <td>NaN</td>\n",
       "      <td>0.0</td>\n",
       "      <td>0.8516</td>\n",
       "      <td>Loss</td>\n",
       "    </tr>\n",
       "    <tr>\n",
       "      <th>122636</th>\n",
       "      <td>ESPORTSTMNT05_3242449</td>\n",
       "      <td>complete</td>\n",
       "      <td>CDF</td>\n",
       "      <td>2023</td>\n",
       "      <td>2023-09-29 17:15:44</td>\n",
       "      <td>3.0</td>\n",
       "      <td>13.18</td>\n",
       "      <td>Red</td>\n",
       "      <td>bot</td>\n",
       "      <td>TakeSet</td>\n",
       "      <td>Solary</td>\n",
       "      <td>Kai'Sa</td>\n",
       "      <td>1550</td>\n",
       "      <td>0</td>\n",
       "      <td>NaN</td>\n",
       "      <td>NaN</td>\n",
       "      <td>NaN</td>\n",
       "      <td>NaN</td>\n",
       "      <td>0.0</td>\n",
       "      <td>0.0</td>\n",
       "      <td>NaN</td>\n",
       "      <td>0.0</td>\n",
       "      <td>0.6194</td>\n",
       "      <td>Loss</td>\n",
       "    </tr>\n",
       "    <tr>\n",
       "      <th>122637</th>\n",
       "      <td>ESPORTSTMNT05_3242449</td>\n",
       "      <td>complete</td>\n",
       "      <td>CDF</td>\n",
       "      <td>2023</td>\n",
       "      <td>2023-09-29 17:15:44</td>\n",
       "      <td>3.0</td>\n",
       "      <td>13.18</td>\n",
       "      <td>Red</td>\n",
       "      <td>sup</td>\n",
       "      <td>Steeelback</td>\n",
       "      <td>Solary</td>\n",
       "      <td>Alistar</td>\n",
       "      <td>1550</td>\n",
       "      <td>0</td>\n",
       "      <td>NaN</td>\n",
       "      <td>NaN</td>\n",
       "      <td>NaN</td>\n",
       "      <td>NaN</td>\n",
       "      <td>0.0</td>\n",
       "      <td>0.0</td>\n",
       "      <td>NaN</td>\n",
       "      <td>0.0</td>\n",
       "      <td>2.7097</td>\n",
       "      <td>Loss</td>\n",
       "    </tr>\n",
       "    <tr>\n",
       "      <th>122638</th>\n",
       "      <td>ESPORTSTMNT05_3242449</td>\n",
       "      <td>complete</td>\n",
       "      <td>CDF</td>\n",
       "      <td>2023</td>\n",
       "      <td>2023-09-29 17:15:44</td>\n",
       "      <td>3.0</td>\n",
       "      <td>13.18</td>\n",
       "      <td>Blue</td>\n",
       "      <td>team</td>\n",
       "      <td>NaN</td>\n",
       "      <td>Team du Sud</td>\n",
       "      <td>NaN</td>\n",
       "      <td>1550</td>\n",
       "      <td>1</td>\n",
       "      <td>3.0</td>\n",
       "      <td>0.0</td>\n",
       "      <td>0.0</td>\n",
       "      <td>2.0</td>\n",
       "      <td>1.0</td>\n",
       "      <td>0.0</td>\n",
       "      <td>8.0</td>\n",
       "      <td>1.0</td>\n",
       "      <td>7.4323</td>\n",
       "      <td>Win</td>\n",
       "    </tr>\n",
       "    <tr>\n",
       "      <th>122639</th>\n",
       "      <td>ESPORTSTMNT05_3242449</td>\n",
       "      <td>complete</td>\n",
       "      <td>CDF</td>\n",
       "      <td>2023</td>\n",
       "      <td>2023-09-29 17:15:44</td>\n",
       "      <td>3.0</td>\n",
       "      <td>13.18</td>\n",
       "      <td>Red</td>\n",
       "      <td>team</td>\n",
       "      <td>NaN</td>\n",
       "      <td>Solary</td>\n",
       "      <td>NaN</td>\n",
       "      <td>1550</td>\n",
       "      <td>0</td>\n",
       "      <td>1.0</td>\n",
       "      <td>0.0</td>\n",
       "      <td>0.0</td>\n",
       "      <td>0.0</td>\n",
       "      <td>0.0</td>\n",
       "      <td>1.0</td>\n",
       "      <td>2.0</td>\n",
       "      <td>0.0</td>\n",
       "      <td>6.2710</td>\n",
       "      <td>Loss</td>\n",
       "    </tr>\n",
       "  </tbody>\n",
       "</table>\n",
       "<p>623160 rows × 24 columns</p>\n",
       "</div>"
      ],
      "text/plain": [
       "                       gameid datacompleteness league  year  \\\n",
       "32640    ESPORTSTMNT02/180233         complete  EU CS  2017   \n",
       "32641    ESPORTSTMNT02/180233         complete  EU CS  2017   \n",
       "32642    ESPORTSTMNT02/180233         complete  EU CS  2017   \n",
       "32643    ESPORTSTMNT02/180233         complete  EU CS  2017   \n",
       "32644    ESPORTSTMNT02/180233         complete  EU CS  2017   \n",
       "...                       ...              ...    ...   ...   \n",
       "122635  ESPORTSTMNT05_3242449         complete    CDF  2023   \n",
       "122636  ESPORTSTMNT05_3242449         complete    CDF  2023   \n",
       "122637  ESPORTSTMNT05_3242449         complete    CDF  2023   \n",
       "122638  ESPORTSTMNT05_3242449         complete    CDF  2023   \n",
       "122639  ESPORTSTMNT05_3242449         complete    CDF  2023   \n",
       "\n",
       "                      date  game  patch  side position  playername  \\\n",
       "32640  2017-05-23 14:28:30   1.0   7.10  Blue      top       Rifty   \n",
       "32641  2017-05-23 14:28:30   1.0   7.10  Blue      jng       Kadir   \n",
       "32642  2017-05-23 14:28:30   1.0   7.10  Blue      mid     Larssen   \n",
       "32643  2017-05-23 14:28:30   1.0   7.10  Blue      bot     Luddehz   \n",
       "32644  2017-05-23 14:28:30   1.0   7.10  Blue      sup       Hadow   \n",
       "...                    ...   ...    ...   ...      ...         ...   \n",
       "122635 2023-09-29 17:15:44   3.0  13.18   Red      mid        Peng   \n",
       "122636 2023-09-29 17:15:44   3.0  13.18   Red      bot     TakeSet   \n",
       "122637 2023-09-29 17:15:44   3.0  13.18   Red      sup  Steeelback   \n",
       "122638 2023-09-29 17:15:44   3.0  13.18  Blue     team         NaN   \n",
       "122639 2023-09-29 17:15:44   3.0  13.18   Red     team         NaN   \n",
       "\n",
       "           teamname champion  gamelength  result  dragons  elders  opp_elders  \\\n",
       "32640    MNM Gaming  Camille        2387       1      NaN     NaN         NaN   \n",
       "32641    MNM Gaming  Lee Sin        2387       1      NaN     NaN         NaN   \n",
       "32642    MNM Gaming  Orianna        2387       1      NaN     NaN         NaN   \n",
       "32643    MNM Gaming     Ashe        2387       1      NaN     NaN         NaN   \n",
       "32644    MNM Gaming    Karma        2387       1      NaN     NaN         NaN   \n",
       "...             ...      ...         ...     ...      ...     ...         ...   \n",
       "122635       Solary   Lucian        1550       0      NaN     NaN         NaN   \n",
       "122636       Solary   Kai'Sa        1550       0      NaN     NaN         NaN   \n",
       "122637       Solary  Alistar        1550       0      NaN     NaN         NaN   \n",
       "122638  Team du Sud      NaN        1550       1      3.0     0.0         0.0   \n",
       "122639       Solary      NaN        1550       0      1.0     0.0         0.0   \n",
       "\n",
       "        heralds  barons  opp_barons  towers  inhibitors    vspm  Win?  \n",
       "32640       NaN     NaN         NaN     NaN         0.0  0.9803   Win  \n",
       "32641       NaN     NaN         NaN     NaN         0.0  2.0612   Win  \n",
       "32642       NaN     NaN         NaN     NaN         0.0  0.6033   Win  \n",
       "32643       NaN     NaN         NaN     NaN         1.0  1.1311   Win  \n",
       "32644       NaN     NaN         NaN     NaN         0.0  2.8655   Win  \n",
       "...         ...     ...         ...     ...         ...     ...   ...  \n",
       "122635      NaN     0.0         0.0     NaN         0.0  0.8516  Loss  \n",
       "122636      NaN     0.0         0.0     NaN         0.0  0.6194  Loss  \n",
       "122637      NaN     0.0         0.0     NaN         0.0  2.7097  Loss  \n",
       "122638      2.0     1.0         0.0     8.0         1.0  7.4323   Win  \n",
       "122639      0.0     0.0         1.0     2.0         0.0  6.2710  Loss  \n",
       "\n",
       "[623160 rows x 24 columns]"
      ]
     },
     "execution_count": 72,
     "metadata": {},
     "output_type": "execute_result"
    }
   ],
   "source": [
    "# Data Cleaning\n",
    "# Convert date to datetime\n",
    "df['date'] = pd.to_datetime(df['date'])\n",
    "\n",
    "# Remove games after October 2023 (the current league is still ongoing)\n",
    "time_cutoff = pd.to_datetime('2023-10-01')\n",
    "\n",
    "df = df[df['date'] < time_cutoff]\n",
    "df = df.query(\"patch >= 7.10\")\n",
    "df['Win?'] = df['result'].map({0: 'Loss', 1: 'Win'})\n",
    "\n",
    "# Filter out incomplete data, and fill in NA player names with 'unknown player'\n",
    "df = df[df['datacompleteness'] == 'complete']\n",
    "df_teams = df.query('position == \"team\"')\n",
    "df_players = df.query('position != \"team\"')\n",
    "\n",
    "df"
   ]
  },
  {
   "cell_type": "code",
   "execution_count": 204,
   "metadata": {},
   "outputs": [
    {
     "name": "stdout",
     "output_type": "stream",
     "text": [
      "None\n"
     ]
    }
   ],
   "source": [
    "print(df_teams.head().to_markdown('plots/df_teams.md'))"
   ]
  },
  {
   "cell_type": "code",
   "execution_count": 206,
   "metadata": {},
   "outputs": [],
   "source": [
    "df_teams.head().to_markdown('plots/df_teams.md')"
   ]
  },
  {
   "cell_type": "code",
   "execution_count": 199,
   "metadata": {},
   "outputs": [
    {
     "data": {
      "application/vnd.plotly.v1+json": {
       "config": {
        "plotlyServerURL": "https://plot.ly"
       },
       "data": [
        {
         "domain": {
          "x": [
           0,
           1
          ],
          "y": [
           0,
           1
          ]
         },
         "hovertemplate": "%{label} side winrate: %{value:.2f}%",
         "labels": [
          "Blue",
          "Red"
         ],
         "legendgroup": "",
         "name": "",
         "showlegend": true,
         "textinfo": "percent+label",
         "textposition": "inside",
         "type": "pie",
         "values": [
          53.000192566917,
          46.988253418062776
         ]
        }
       ],
       "layout": {
        "hovermode": "x",
        "legend": {
         "tracegroupgap": 0
        },
        "showlegend": false,
        "template": {
         "data": {
          "bar": [
           {
            "error_x": {
             "color": "#2a3f5f"
            },
            "error_y": {
             "color": "#2a3f5f"
            },
            "marker": {
             "line": {
              "color": "#E5ECF6",
              "width": 0.5
             },
             "pattern": {
              "fillmode": "overlay",
              "size": 10,
              "solidity": 0.2
             }
            },
            "type": "bar"
           }
          ],
          "barpolar": [
           {
            "marker": {
             "line": {
              "color": "#E5ECF6",
              "width": 0.5
             },
             "pattern": {
              "fillmode": "overlay",
              "size": 10,
              "solidity": 0.2
             }
            },
            "type": "barpolar"
           }
          ],
          "carpet": [
           {
            "aaxis": {
             "endlinecolor": "#2a3f5f",
             "gridcolor": "white",
             "linecolor": "white",
             "minorgridcolor": "white",
             "startlinecolor": "#2a3f5f"
            },
            "baxis": {
             "endlinecolor": "#2a3f5f",
             "gridcolor": "white",
             "linecolor": "white",
             "minorgridcolor": "white",
             "startlinecolor": "#2a3f5f"
            },
            "type": "carpet"
           }
          ],
          "choropleth": [
           {
            "colorbar": {
             "outlinewidth": 0,
             "ticks": ""
            },
            "type": "choropleth"
           }
          ],
          "contour": [
           {
            "colorbar": {
             "outlinewidth": 0,
             "ticks": ""
            },
            "colorscale": [
             [
              0,
              "#0d0887"
             ],
             [
              0.1111111111111111,
              "#46039f"
             ],
             [
              0.2222222222222222,
              "#7201a8"
             ],
             [
              0.3333333333333333,
              "#9c179e"
             ],
             [
              0.4444444444444444,
              "#bd3786"
             ],
             [
              0.5555555555555556,
              "#d8576b"
             ],
             [
              0.6666666666666666,
              "#ed7953"
             ],
             [
              0.7777777777777778,
              "#fb9f3a"
             ],
             [
              0.8888888888888888,
              "#fdca26"
             ],
             [
              1,
              "#f0f921"
             ]
            ],
            "type": "contour"
           }
          ],
          "contourcarpet": [
           {
            "colorbar": {
             "outlinewidth": 0,
             "ticks": ""
            },
            "type": "contourcarpet"
           }
          ],
          "heatmap": [
           {
            "colorbar": {
             "outlinewidth": 0,
             "ticks": ""
            },
            "colorscale": [
             [
              0,
              "#0d0887"
             ],
             [
              0.1111111111111111,
              "#46039f"
             ],
             [
              0.2222222222222222,
              "#7201a8"
             ],
             [
              0.3333333333333333,
              "#9c179e"
             ],
             [
              0.4444444444444444,
              "#bd3786"
             ],
             [
              0.5555555555555556,
              "#d8576b"
             ],
             [
              0.6666666666666666,
              "#ed7953"
             ],
             [
              0.7777777777777778,
              "#fb9f3a"
             ],
             [
              0.8888888888888888,
              "#fdca26"
             ],
             [
              1,
              "#f0f921"
             ]
            ],
            "type": "heatmap"
           }
          ],
          "heatmapgl": [
           {
            "colorbar": {
             "outlinewidth": 0,
             "ticks": ""
            },
            "colorscale": [
             [
              0,
              "#0d0887"
             ],
             [
              0.1111111111111111,
              "#46039f"
             ],
             [
              0.2222222222222222,
              "#7201a8"
             ],
             [
              0.3333333333333333,
              "#9c179e"
             ],
             [
              0.4444444444444444,
              "#bd3786"
             ],
             [
              0.5555555555555556,
              "#d8576b"
             ],
             [
              0.6666666666666666,
              "#ed7953"
             ],
             [
              0.7777777777777778,
              "#fb9f3a"
             ],
             [
              0.8888888888888888,
              "#fdca26"
             ],
             [
              1,
              "#f0f921"
             ]
            ],
            "type": "heatmapgl"
           }
          ],
          "histogram": [
           {
            "marker": {
             "pattern": {
              "fillmode": "overlay",
              "size": 10,
              "solidity": 0.2
             }
            },
            "type": "histogram"
           }
          ],
          "histogram2d": [
           {
            "colorbar": {
             "outlinewidth": 0,
             "ticks": ""
            },
            "colorscale": [
             [
              0,
              "#0d0887"
             ],
             [
              0.1111111111111111,
              "#46039f"
             ],
             [
              0.2222222222222222,
              "#7201a8"
             ],
             [
              0.3333333333333333,
              "#9c179e"
             ],
             [
              0.4444444444444444,
              "#bd3786"
             ],
             [
              0.5555555555555556,
              "#d8576b"
             ],
             [
              0.6666666666666666,
              "#ed7953"
             ],
             [
              0.7777777777777778,
              "#fb9f3a"
             ],
             [
              0.8888888888888888,
              "#fdca26"
             ],
             [
              1,
              "#f0f921"
             ]
            ],
            "type": "histogram2d"
           }
          ],
          "histogram2dcontour": [
           {
            "colorbar": {
             "outlinewidth": 0,
             "ticks": ""
            },
            "colorscale": [
             [
              0,
              "#0d0887"
             ],
             [
              0.1111111111111111,
              "#46039f"
             ],
             [
              0.2222222222222222,
              "#7201a8"
             ],
             [
              0.3333333333333333,
              "#9c179e"
             ],
             [
              0.4444444444444444,
              "#bd3786"
             ],
             [
              0.5555555555555556,
              "#d8576b"
             ],
             [
              0.6666666666666666,
              "#ed7953"
             ],
             [
              0.7777777777777778,
              "#fb9f3a"
             ],
             [
              0.8888888888888888,
              "#fdca26"
             ],
             [
              1,
              "#f0f921"
             ]
            ],
            "type": "histogram2dcontour"
           }
          ],
          "mesh3d": [
           {
            "colorbar": {
             "outlinewidth": 0,
             "ticks": ""
            },
            "type": "mesh3d"
           }
          ],
          "parcoords": [
           {
            "line": {
             "colorbar": {
              "outlinewidth": 0,
              "ticks": ""
             }
            },
            "type": "parcoords"
           }
          ],
          "pie": [
           {
            "automargin": true,
            "type": "pie"
           }
          ],
          "scatter": [
           {
            "fillpattern": {
             "fillmode": "overlay",
             "size": 10,
             "solidity": 0.2
            },
            "type": "scatter"
           }
          ],
          "scatter3d": [
           {
            "line": {
             "colorbar": {
              "outlinewidth": 0,
              "ticks": ""
             }
            },
            "marker": {
             "colorbar": {
              "outlinewidth": 0,
              "ticks": ""
             }
            },
            "type": "scatter3d"
           }
          ],
          "scattercarpet": [
           {
            "marker": {
             "colorbar": {
              "outlinewidth": 0,
              "ticks": ""
             }
            },
            "type": "scattercarpet"
           }
          ],
          "scattergeo": [
           {
            "marker": {
             "colorbar": {
              "outlinewidth": 0,
              "ticks": ""
             }
            },
            "type": "scattergeo"
           }
          ],
          "scattergl": [
           {
            "marker": {
             "colorbar": {
              "outlinewidth": 0,
              "ticks": ""
             }
            },
            "type": "scattergl"
           }
          ],
          "scattermapbox": [
           {
            "marker": {
             "colorbar": {
              "outlinewidth": 0,
              "ticks": ""
             }
            },
            "type": "scattermapbox"
           }
          ],
          "scatterpolar": [
           {
            "marker": {
             "colorbar": {
              "outlinewidth": 0,
              "ticks": ""
             }
            },
            "type": "scatterpolar"
           }
          ],
          "scatterpolargl": [
           {
            "marker": {
             "colorbar": {
              "outlinewidth": 0,
              "ticks": ""
             }
            },
            "type": "scatterpolargl"
           }
          ],
          "scatterternary": [
           {
            "marker": {
             "colorbar": {
              "outlinewidth": 0,
              "ticks": ""
             }
            },
            "type": "scatterternary"
           }
          ],
          "surface": [
           {
            "colorbar": {
             "outlinewidth": 0,
             "ticks": ""
            },
            "colorscale": [
             [
              0,
              "#0d0887"
             ],
             [
              0.1111111111111111,
              "#46039f"
             ],
             [
              0.2222222222222222,
              "#7201a8"
             ],
             [
              0.3333333333333333,
              "#9c179e"
             ],
             [
              0.4444444444444444,
              "#bd3786"
             ],
             [
              0.5555555555555556,
              "#d8576b"
             ],
             [
              0.6666666666666666,
              "#ed7953"
             ],
             [
              0.7777777777777778,
              "#fb9f3a"
             ],
             [
              0.8888888888888888,
              "#fdca26"
             ],
             [
              1,
              "#f0f921"
             ]
            ],
            "type": "surface"
           }
          ],
          "table": [
           {
            "cells": {
             "fill": {
              "color": "#EBF0F8"
             },
             "line": {
              "color": "white"
             }
            },
            "header": {
             "fill": {
              "color": "#C8D4E3"
             },
             "line": {
              "color": "white"
             }
            },
            "type": "table"
           }
          ]
         },
         "layout": {
          "annotationdefaults": {
           "arrowcolor": "#2a3f5f",
           "arrowhead": 0,
           "arrowwidth": 1
          },
          "autotypenumbers": "strict",
          "coloraxis": {
           "colorbar": {
            "outlinewidth": 0,
            "ticks": ""
           }
          },
          "colorscale": {
           "diverging": [
            [
             0,
             "#8e0152"
            ],
            [
             0.1,
             "#c51b7d"
            ],
            [
             0.2,
             "#de77ae"
            ],
            [
             0.3,
             "#f1b6da"
            ],
            [
             0.4,
             "#fde0ef"
            ],
            [
             0.5,
             "#f7f7f7"
            ],
            [
             0.6,
             "#e6f5d0"
            ],
            [
             0.7,
             "#b8e186"
            ],
            [
             0.8,
             "#7fbc41"
            ],
            [
             0.9,
             "#4d9221"
            ],
            [
             1,
             "#276419"
            ]
           ],
           "sequential": [
            [
             0,
             "#0d0887"
            ],
            [
             0.1111111111111111,
             "#46039f"
            ],
            [
             0.2222222222222222,
             "#7201a8"
            ],
            [
             0.3333333333333333,
             "#9c179e"
            ],
            [
             0.4444444444444444,
             "#bd3786"
            ],
            [
             0.5555555555555556,
             "#d8576b"
            ],
            [
             0.6666666666666666,
             "#ed7953"
            ],
            [
             0.7777777777777778,
             "#fb9f3a"
            ],
            [
             0.8888888888888888,
             "#fdca26"
            ],
            [
             1,
             "#f0f921"
            ]
           ],
           "sequentialminus": [
            [
             0,
             "#0d0887"
            ],
            [
             0.1111111111111111,
             "#46039f"
            ],
            [
             0.2222222222222222,
             "#7201a8"
            ],
            [
             0.3333333333333333,
             "#9c179e"
            ],
            [
             0.4444444444444444,
             "#bd3786"
            ],
            [
             0.5555555555555556,
             "#d8576b"
            ],
            [
             0.6666666666666666,
             "#ed7953"
            ],
            [
             0.7777777777777778,
             "#fb9f3a"
            ],
            [
             0.8888888888888888,
             "#fdca26"
            ],
            [
             1,
             "#f0f921"
            ]
           ]
          },
          "colorway": [
           "#636efa",
           "#EF553B",
           "#00cc96",
           "#ab63fa",
           "#FFA15A",
           "#19d3f3",
           "#FF6692",
           "#B6E880",
           "#FF97FF",
           "#FECB52"
          ],
          "font": {
           "color": "#2a3f5f"
          },
          "geo": {
           "bgcolor": "white",
           "lakecolor": "white",
           "landcolor": "#E5ECF6",
           "showlakes": true,
           "showland": true,
           "subunitcolor": "white"
          },
          "hoverlabel": {
           "align": "left"
          },
          "hovermode": "closest",
          "mapbox": {
           "style": "light"
          },
          "paper_bgcolor": "white",
          "plot_bgcolor": "#E5ECF6",
          "polar": {
           "angularaxis": {
            "gridcolor": "white",
            "linecolor": "white",
            "ticks": ""
           },
           "bgcolor": "#E5ECF6",
           "radialaxis": {
            "gridcolor": "white",
            "linecolor": "white",
            "ticks": ""
           }
          },
          "scene": {
           "xaxis": {
            "backgroundcolor": "#E5ECF6",
            "gridcolor": "white",
            "gridwidth": 2,
            "linecolor": "white",
            "showbackground": true,
            "ticks": "",
            "zerolinecolor": "white"
           },
           "yaxis": {
            "backgroundcolor": "#E5ECF6",
            "gridcolor": "white",
            "gridwidth": 2,
            "linecolor": "white",
            "showbackground": true,
            "ticks": "",
            "zerolinecolor": "white"
           },
           "zaxis": {
            "backgroundcolor": "#E5ECF6",
            "gridcolor": "white",
            "gridwidth": 2,
            "linecolor": "white",
            "showbackground": true,
            "ticks": "",
            "zerolinecolor": "white"
           }
          },
          "shapedefaults": {
           "line": {
            "color": "#2a3f5f"
           }
          },
          "ternary": {
           "aaxis": {
            "gridcolor": "white",
            "linecolor": "white",
            "ticks": ""
           },
           "baxis": {
            "gridcolor": "white",
            "linecolor": "white",
            "ticks": ""
           },
           "bgcolor": "#E5ECF6",
           "caxis": {
            "gridcolor": "white",
            "linecolor": "white",
            "ticks": ""
           }
          },
          "title": {
           "x": 0.05
          },
          "xaxis": {
           "automargin": true,
           "gridcolor": "white",
           "linecolor": "white",
           "ticks": "",
           "title": {
            "standoff": 15
           },
           "zerolinecolor": "white",
           "zerolinewidth": 2
          },
          "yaxis": {
           "automargin": true,
           "gridcolor": "white",
           "linecolor": "white",
           "ticks": "",
           "title": {
            "standoff": 15
           },
           "zerolinecolor": "white",
           "zerolinewidth": 2
          }
         }
        },
        "title": {
         "text": "Win Rate by Side"
        }
       }
      }
     },
     "metadata": {},
     "output_type": "display_data"
    }
   ],
   "source": [
    "univ = df_teams.groupby('side')['result'].mean()*100\n",
    "fig = px.pie(univ, values='result', names=univ.index, title='Win Rate by Side')\n",
    "fig.update_layout(showlegend=False, hovermode='x')\n",
    "fig.update_traces(textposition='inside', textinfo='percent+label', hovertemplate='%{label} side winrate: %{value:.2f}%')\n",
    "fig.write_html('plots/univariate.html', include_plotlyjs='cdn')\n",
    "fig.show()"
   ]
  },
  {
   "cell_type": "code",
   "execution_count": 74,
   "metadata": {},
   "outputs": [],
   "source": [
    "def convert_minutes(s):\n",
    "    m = s // 60\n",
    "    s = s % 60\n",
    "    return f'{m}:{s:02d}'"
   ]
  },
  {
   "cell_type": "code",
   "execution_count": 203,
   "metadata": {},
   "outputs": [
    {
     "data": {
      "application/vnd.plotly.v1+json": {
       "config": {
        "plotlyServerURL": "https://plot.ly"
       },
       "data": [
        {
         "alignmentgroup": "True",
         "customdata": [
          [
           59698,
           57.480405938878086
          ],
          [
           40644,
           39.13420246875541
          ],
          [
           3516,
           3.3853915923665006
          ]
         ],
         "hovertemplate": "Length: %{x}<br>Blue Winrate Advantage: %{y}%<br>%{customdata[0]:,} Games<br>(%{customdata[1]:.2f}% of all Games)",
         "legendgroup": "blue_wr_advantage",
         "marker": {
          "color": "#636efa",
          "pattern": {
           "shape": ""
          }
         },
         "name": "blue_wr_advantage",
         "offsetgroup": "blue_wr_advantage",
         "orientation": "v",
         "showlegend": true,
         "textposition": "auto",
         "type": "bar",
         "x": [
          "15-30 Minutes",
          "31-45 Minutes",
          "45+ Minutes"
         ],
         "xaxis": "x",
         "y": [
          9.849999999999994,
          3.819999999999993,
          -1.2600000000000051
         ],
         "yaxis": "y"
        }
       ],
       "layout": {
        "annotations": [
         {
          "font": {
           "color": "black",
           "size": 12
          },
          "showarrow": false,
          "text": "9.85% Higher Winrate",
          "x": "15-30 Minutes",
          "xanchor": "center",
          "y": 9.849999999999994,
          "yanchor": "bottom"
         },
         {
          "font": {
           "color": "black",
           "size": 12
          },
          "showarrow": false,
          "text": "3.82% Higher Winrate",
          "x": "31-45 Minutes",
          "xanchor": "center",
          "y": 3.819999999999993,
          "yanchor": "bottom"
         },
         {
          "font": {
           "color": "black",
           "size": 12
          },
          "showarrow": false,
          "text": "-1.26% Higher Winrate",
          "x": "45+ Minutes",
          "xanchor": "center",
          "y": -1.2600000000000051,
          "yanchor": "bottom"
         }
        ],
        "barmode": "relative",
        "hovermode": "x",
        "legend": {
         "title": {
          "text": "variable"
         },
         "tracegroupgap": 0
        },
        "showlegend": false,
        "template": {
         "data": {
          "bar": [
           {
            "error_x": {
             "color": "#2a3f5f"
            },
            "error_y": {
             "color": "#2a3f5f"
            },
            "marker": {
             "line": {
              "color": "#E5ECF6",
              "width": 0.5
             },
             "pattern": {
              "fillmode": "overlay",
              "size": 10,
              "solidity": 0.2
             }
            },
            "type": "bar"
           }
          ],
          "barpolar": [
           {
            "marker": {
             "line": {
              "color": "#E5ECF6",
              "width": 0.5
             },
             "pattern": {
              "fillmode": "overlay",
              "size": 10,
              "solidity": 0.2
             }
            },
            "type": "barpolar"
           }
          ],
          "carpet": [
           {
            "aaxis": {
             "endlinecolor": "#2a3f5f",
             "gridcolor": "white",
             "linecolor": "white",
             "minorgridcolor": "white",
             "startlinecolor": "#2a3f5f"
            },
            "baxis": {
             "endlinecolor": "#2a3f5f",
             "gridcolor": "white",
             "linecolor": "white",
             "minorgridcolor": "white",
             "startlinecolor": "#2a3f5f"
            },
            "type": "carpet"
           }
          ],
          "choropleth": [
           {
            "colorbar": {
             "outlinewidth": 0,
             "ticks": ""
            },
            "type": "choropleth"
           }
          ],
          "contour": [
           {
            "colorbar": {
             "outlinewidth": 0,
             "ticks": ""
            },
            "colorscale": [
             [
              0,
              "#0d0887"
             ],
             [
              0.1111111111111111,
              "#46039f"
             ],
             [
              0.2222222222222222,
              "#7201a8"
             ],
             [
              0.3333333333333333,
              "#9c179e"
             ],
             [
              0.4444444444444444,
              "#bd3786"
             ],
             [
              0.5555555555555556,
              "#d8576b"
             ],
             [
              0.6666666666666666,
              "#ed7953"
             ],
             [
              0.7777777777777778,
              "#fb9f3a"
             ],
             [
              0.8888888888888888,
              "#fdca26"
             ],
             [
              1,
              "#f0f921"
             ]
            ],
            "type": "contour"
           }
          ],
          "contourcarpet": [
           {
            "colorbar": {
             "outlinewidth": 0,
             "ticks": ""
            },
            "type": "contourcarpet"
           }
          ],
          "heatmap": [
           {
            "colorbar": {
             "outlinewidth": 0,
             "ticks": ""
            },
            "colorscale": [
             [
              0,
              "#0d0887"
             ],
             [
              0.1111111111111111,
              "#46039f"
             ],
             [
              0.2222222222222222,
              "#7201a8"
             ],
             [
              0.3333333333333333,
              "#9c179e"
             ],
             [
              0.4444444444444444,
              "#bd3786"
             ],
             [
              0.5555555555555556,
              "#d8576b"
             ],
             [
              0.6666666666666666,
              "#ed7953"
             ],
             [
              0.7777777777777778,
              "#fb9f3a"
             ],
             [
              0.8888888888888888,
              "#fdca26"
             ],
             [
              1,
              "#f0f921"
             ]
            ],
            "type": "heatmap"
           }
          ],
          "heatmapgl": [
           {
            "colorbar": {
             "outlinewidth": 0,
             "ticks": ""
            },
            "colorscale": [
             [
              0,
              "#0d0887"
             ],
             [
              0.1111111111111111,
              "#46039f"
             ],
             [
              0.2222222222222222,
              "#7201a8"
             ],
             [
              0.3333333333333333,
              "#9c179e"
             ],
             [
              0.4444444444444444,
              "#bd3786"
             ],
             [
              0.5555555555555556,
              "#d8576b"
             ],
             [
              0.6666666666666666,
              "#ed7953"
             ],
             [
              0.7777777777777778,
              "#fb9f3a"
             ],
             [
              0.8888888888888888,
              "#fdca26"
             ],
             [
              1,
              "#f0f921"
             ]
            ],
            "type": "heatmapgl"
           }
          ],
          "histogram": [
           {
            "marker": {
             "pattern": {
              "fillmode": "overlay",
              "size": 10,
              "solidity": 0.2
             }
            },
            "type": "histogram"
           }
          ],
          "histogram2d": [
           {
            "colorbar": {
             "outlinewidth": 0,
             "ticks": ""
            },
            "colorscale": [
             [
              0,
              "#0d0887"
             ],
             [
              0.1111111111111111,
              "#46039f"
             ],
             [
              0.2222222222222222,
              "#7201a8"
             ],
             [
              0.3333333333333333,
              "#9c179e"
             ],
             [
              0.4444444444444444,
              "#bd3786"
             ],
             [
              0.5555555555555556,
              "#d8576b"
             ],
             [
              0.6666666666666666,
              "#ed7953"
             ],
             [
              0.7777777777777778,
              "#fb9f3a"
             ],
             [
              0.8888888888888888,
              "#fdca26"
             ],
             [
              1,
              "#f0f921"
             ]
            ],
            "type": "histogram2d"
           }
          ],
          "histogram2dcontour": [
           {
            "colorbar": {
             "outlinewidth": 0,
             "ticks": ""
            },
            "colorscale": [
             [
              0,
              "#0d0887"
             ],
             [
              0.1111111111111111,
              "#46039f"
             ],
             [
              0.2222222222222222,
              "#7201a8"
             ],
             [
              0.3333333333333333,
              "#9c179e"
             ],
             [
              0.4444444444444444,
              "#bd3786"
             ],
             [
              0.5555555555555556,
              "#d8576b"
             ],
             [
              0.6666666666666666,
              "#ed7953"
             ],
             [
              0.7777777777777778,
              "#fb9f3a"
             ],
             [
              0.8888888888888888,
              "#fdca26"
             ],
             [
              1,
              "#f0f921"
             ]
            ],
            "type": "histogram2dcontour"
           }
          ],
          "mesh3d": [
           {
            "colorbar": {
             "outlinewidth": 0,
             "ticks": ""
            },
            "type": "mesh3d"
           }
          ],
          "parcoords": [
           {
            "line": {
             "colorbar": {
              "outlinewidth": 0,
              "ticks": ""
             }
            },
            "type": "parcoords"
           }
          ],
          "pie": [
           {
            "automargin": true,
            "type": "pie"
           }
          ],
          "scatter": [
           {
            "fillpattern": {
             "fillmode": "overlay",
             "size": 10,
             "solidity": 0.2
            },
            "type": "scatter"
           }
          ],
          "scatter3d": [
           {
            "line": {
             "colorbar": {
              "outlinewidth": 0,
              "ticks": ""
             }
            },
            "marker": {
             "colorbar": {
              "outlinewidth": 0,
              "ticks": ""
             }
            },
            "type": "scatter3d"
           }
          ],
          "scattercarpet": [
           {
            "marker": {
             "colorbar": {
              "outlinewidth": 0,
              "ticks": ""
             }
            },
            "type": "scattercarpet"
           }
          ],
          "scattergeo": [
           {
            "marker": {
             "colorbar": {
              "outlinewidth": 0,
              "ticks": ""
             }
            },
            "type": "scattergeo"
           }
          ],
          "scattergl": [
           {
            "marker": {
             "colorbar": {
              "outlinewidth": 0,
              "ticks": ""
             }
            },
            "type": "scattergl"
           }
          ],
          "scattermapbox": [
           {
            "marker": {
             "colorbar": {
              "outlinewidth": 0,
              "ticks": ""
             }
            },
            "type": "scattermapbox"
           }
          ],
          "scatterpolar": [
           {
            "marker": {
             "colorbar": {
              "outlinewidth": 0,
              "ticks": ""
             }
            },
            "type": "scatterpolar"
           }
          ],
          "scatterpolargl": [
           {
            "marker": {
             "colorbar": {
              "outlinewidth": 0,
              "ticks": ""
             }
            },
            "type": "scatterpolargl"
           }
          ],
          "scatterternary": [
           {
            "marker": {
             "colorbar": {
              "outlinewidth": 0,
              "ticks": ""
             }
            },
            "type": "scatterternary"
           }
          ],
          "surface": [
           {
            "colorbar": {
             "outlinewidth": 0,
             "ticks": ""
            },
            "colorscale": [
             [
              0,
              "#0d0887"
             ],
             [
              0.1111111111111111,
              "#46039f"
             ],
             [
              0.2222222222222222,
              "#7201a8"
             ],
             [
              0.3333333333333333,
              "#9c179e"
             ],
             [
              0.4444444444444444,
              "#bd3786"
             ],
             [
              0.5555555555555556,
              "#d8576b"
             ],
             [
              0.6666666666666666,
              "#ed7953"
             ],
             [
              0.7777777777777778,
              "#fb9f3a"
             ],
             [
              0.8888888888888888,
              "#fdca26"
             ],
             [
              1,
              "#f0f921"
             ]
            ],
            "type": "surface"
           }
          ],
          "table": [
           {
            "cells": {
             "fill": {
              "color": "#EBF0F8"
             },
             "line": {
              "color": "white"
             }
            },
            "header": {
             "fill": {
              "color": "#C8D4E3"
             },
             "line": {
              "color": "white"
             }
            },
            "type": "table"
           }
          ]
         },
         "layout": {
          "annotationdefaults": {
           "arrowcolor": "#2a3f5f",
           "arrowhead": 0,
           "arrowwidth": 1
          },
          "autotypenumbers": "strict",
          "coloraxis": {
           "colorbar": {
            "outlinewidth": 0,
            "ticks": ""
           }
          },
          "colorscale": {
           "diverging": [
            [
             0,
             "#8e0152"
            ],
            [
             0.1,
             "#c51b7d"
            ],
            [
             0.2,
             "#de77ae"
            ],
            [
             0.3,
             "#f1b6da"
            ],
            [
             0.4,
             "#fde0ef"
            ],
            [
             0.5,
             "#f7f7f7"
            ],
            [
             0.6,
             "#e6f5d0"
            ],
            [
             0.7,
             "#b8e186"
            ],
            [
             0.8,
             "#7fbc41"
            ],
            [
             0.9,
             "#4d9221"
            ],
            [
             1,
             "#276419"
            ]
           ],
           "sequential": [
            [
             0,
             "#0d0887"
            ],
            [
             0.1111111111111111,
             "#46039f"
            ],
            [
             0.2222222222222222,
             "#7201a8"
            ],
            [
             0.3333333333333333,
             "#9c179e"
            ],
            [
             0.4444444444444444,
             "#bd3786"
            ],
            [
             0.5555555555555556,
             "#d8576b"
            ],
            [
             0.6666666666666666,
             "#ed7953"
            ],
            [
             0.7777777777777778,
             "#fb9f3a"
            ],
            [
             0.8888888888888888,
             "#fdca26"
            ],
            [
             1,
             "#f0f921"
            ]
           ],
           "sequentialminus": [
            [
             0,
             "#0d0887"
            ],
            [
             0.1111111111111111,
             "#46039f"
            ],
            [
             0.2222222222222222,
             "#7201a8"
            ],
            [
             0.3333333333333333,
             "#9c179e"
            ],
            [
             0.4444444444444444,
             "#bd3786"
            ],
            [
             0.5555555555555556,
             "#d8576b"
            ],
            [
             0.6666666666666666,
             "#ed7953"
            ],
            [
             0.7777777777777778,
             "#fb9f3a"
            ],
            [
             0.8888888888888888,
             "#fdca26"
            ],
            [
             1,
             "#f0f921"
            ]
           ]
          },
          "colorway": [
           "#636efa",
           "#EF553B",
           "#00cc96",
           "#ab63fa",
           "#FFA15A",
           "#19d3f3",
           "#FF6692",
           "#B6E880",
           "#FF97FF",
           "#FECB52"
          ],
          "font": {
           "color": "#2a3f5f"
          },
          "geo": {
           "bgcolor": "white",
           "lakecolor": "white",
           "landcolor": "#E5ECF6",
           "showlakes": true,
           "showland": true,
           "subunitcolor": "white"
          },
          "hoverlabel": {
           "align": "left"
          },
          "hovermode": "closest",
          "mapbox": {
           "style": "light"
          },
          "paper_bgcolor": "white",
          "plot_bgcolor": "#E5ECF6",
          "polar": {
           "angularaxis": {
            "gridcolor": "white",
            "linecolor": "white",
            "ticks": ""
           },
           "bgcolor": "#E5ECF6",
           "radialaxis": {
            "gridcolor": "white",
            "linecolor": "white",
            "ticks": ""
           }
          },
          "scene": {
           "xaxis": {
            "backgroundcolor": "#E5ECF6",
            "gridcolor": "white",
            "gridwidth": 2,
            "linecolor": "white",
            "showbackground": true,
            "ticks": "",
            "zerolinecolor": "white"
           },
           "yaxis": {
            "backgroundcolor": "#E5ECF6",
            "gridcolor": "white",
            "gridwidth": 2,
            "linecolor": "white",
            "showbackground": true,
            "ticks": "",
            "zerolinecolor": "white"
           },
           "zaxis": {
            "backgroundcolor": "#E5ECF6",
            "gridcolor": "white",
            "gridwidth": 2,
            "linecolor": "white",
            "showbackground": true,
            "ticks": "",
            "zerolinecolor": "white"
           }
          },
          "shapedefaults": {
           "line": {
            "color": "#2a3f5f"
           }
          },
          "ternary": {
           "aaxis": {
            "gridcolor": "white",
            "linecolor": "white",
            "ticks": ""
           },
           "baxis": {
            "gridcolor": "white",
            "linecolor": "white",
            "ticks": ""
           },
           "bgcolor": "#E5ECF6",
           "caxis": {
            "gridcolor": "white",
            "linecolor": "white",
            "ticks": ""
           }
          },
          "title": {
           "x": 0.05
          },
          "xaxis": {
           "automargin": true,
           "gridcolor": "white",
           "linecolor": "white",
           "ticks": "",
           "title": {
            "standoff": 15
           },
           "zerolinecolor": "white",
           "zerolinewidth": 2
          },
          "yaxis": {
           "automargin": true,
           "gridcolor": "white",
           "linecolor": "white",
           "ticks": "",
           "title": {
            "standoff": 15
           },
           "zerolinecolor": "white",
           "zerolinewidth": 2
          }
         }
        },
        "title": {
         "text": "Blue Side Winrate Advantage by Game Length"
        },
        "xaxis": {
         "anchor": "y",
         "domain": [
          0,
          1
         ],
         "title": {
          "text": "Game Length"
         },
         "type": "category"
        },
        "yaxis": {
         "anchor": "x",
         "domain": [
          0,
          1
         ],
         "title": {
          "text": "Blue Side Winrate % Difference"
         }
        }
       }
      }
     },
     "metadata": {},
     "output_type": "display_data"
    },
    {
     "name": "stdout",
     "output_type": "stream",
     "text": [
      "gamelength_bins\n",
      "15-30 Minutes    9.85\n",
      "31-45 Minutes    3.82\n",
      "45+ Minutes     -1.26\n",
      "Name: blue_wr_advantage, dtype: float64\n"
     ]
    }
   ],
   "source": [
    "# Split the gamelength column into 3 bins\n",
    "gamelength_bins = pd.cut(df_teams['gamelength'], bins=[900, 1800, 2700, np.inf], labels=['15-30 Minutes', '31-45 Minutes', '45+ Minutes'])\n",
    "\n",
    "wr_length = (df_teams.assign(gamelength_bins=gamelength_bins)\n",
    " .groupby([\"gamelength_bins\", 'side'])\n",
    " .agg({'result': lambda x: np.round(x.mean()*100,2)})\n",
    " .unstack()\n",
    " .assign(blue_wr_advantage = lambda x: (x['result']['Blue'] - x['result']['Red']))\n",
    " ['blue_wr_advantage']\n",
    " )\n",
    "\n",
    "customdata = np.stack([gamelength_bins.value_counts(), gamelength_bins.value_counts(normalize=True)*100], axis=-1)\n",
    "fig = px.bar(wr_length, title='Blue Side Winrate Advantage by Game Length')\n",
    "# Change it to categorical\n",
    "fig.update_xaxes(type='category', title='Game Length')\n",
    "fig.update_yaxes(title='Blue Side Winrate % Difference')\n",
    "fig.update_layout(hovermode='x')\n",
    "# Update the hover label text to show the year, and the winrate advantage\n",
    "fig.update_traces(customdata=customdata, \n",
    "                  hovertemplate='Length: %{x}<br>Blue Winrate Advantage: %{y}%<br>%{customdata[0]:,} Games<br>(%{customdata[1]:.2f}% of all Games)')\n",
    "# Add a text above each bar with the number of games in that bin, as stored in customdata\n",
    "fig.update_layout(showlegend=False, annotations=[\n",
    "    dict(\n",
    "        x=bin,\n",
    "        y=advantage,\n",
    "        text=f\"{advantage:.2f}% Higher Winrate\",\n",
    "        showarrow=False,\n",
    "        font=dict(size=12, color='black'),\n",
    "        xanchor='center',\n",
    "        yanchor='bottom'\n",
    "    )\n",
    "    for bin, advantage, games in zip(wr_length.index, wr_length.values, customdata[:, 0])\n",
    "])\n",
    "fig.write_html('plots/bivariate.html', include_plotlyjs='cdn')\n",
    "fig.show()\n",
    "print(wr_length)\n",
    "wr_length = []"
   ]
  },
  {
   "cell_type": "code",
   "execution_count": 171,
   "metadata": {},
   "outputs": [
    {
     "data": {
      "text/html": [
       "<div>\n",
       "<style scoped>\n",
       "    .dataframe tbody tr th:only-of-type {\n",
       "        vertical-align: middle;\n",
       "    }\n",
       "\n",
       "    .dataframe tbody tr th {\n",
       "        vertical-align: top;\n",
       "    }\n",
       "\n",
       "    .dataframe thead tr th {\n",
       "        text-align: left;\n",
       "    }\n",
       "\n",
       "    .dataframe thead tr:last-of-type th {\n",
       "        text-align: right;\n",
       "    }\n",
       "</style>\n",
       "<table border=\"1\" class=\"dataframe\">\n",
       "  <thead>\n",
       "    <tr>\n",
       "      <th></th>\n",
       "      <th colspan=\"2\" halign=\"left\">result</th>\n",
       "    </tr>\n",
       "    <tr>\n",
       "      <th>side</th>\n",
       "      <th>Blue</th>\n",
       "      <th>Red</th>\n",
       "    </tr>\n",
       "    <tr>\n",
       "      <th>gamelength_bins</th>\n",
       "      <th></th>\n",
       "      <th></th>\n",
       "    </tr>\n",
       "  </thead>\n",
       "  <tbody>\n",
       "    <tr>\n",
       "      <th>15-30 Minutes</th>\n",
       "      <td>0.549109</td>\n",
       "      <td>0.450595</td>\n",
       "    </tr>\n",
       "    <tr>\n",
       "      <th>31-45 Minutes</th>\n",
       "      <td>0.519113</td>\n",
       "      <td>0.480887</td>\n",
       "    </tr>\n",
       "    <tr>\n",
       "      <th>45+ Minutes</th>\n",
       "      <td>0.493743</td>\n",
       "      <td>0.506257</td>\n",
       "    </tr>\n",
       "  </tbody>\n",
       "</table>\n",
       "</div>"
      ],
      "text/plain": [
       "                   result          \n",
       "side                 Blue       Red\n",
       "gamelength_bins                    \n",
       "15-30 Minutes    0.549109  0.450595\n",
       "31-45 Minutes    0.519113  0.480887\n",
       "45+ Minutes      0.493743  0.506257"
      ]
     },
     "execution_count": 171,
     "metadata": {},
     "output_type": "execute_result"
    }
   ],
   "source": [
    "df_obj_by_gl = (df_teams[['side', 'result', 'patch', 'elders', 'barons', 'opp_elders', 'opp_barons']]\n",
    " .assign(gamelength_bins=gamelength_bins)\n",
    ")\n",
    "df_obj_by_gl['elder advantage'] = df_obj_by_gl['elders'] - df_obj_by_gl['opp_elders']\n",
    "df_obj_by_gl['baron advantage'] = df_obj_by_gl['barons'] - df_obj_by_gl['opp_barons']\n",
    "\n",
    "baron_bins = pd.cut(df_obj_by_gl['baron advantage'], bins=[-np.inf, -0.01, 0.99, 1.99, np.inf], labels=['Less Barons', 'Same Barons', '1 More Baron', '2+ More Barons'], right=True)\n",
    "elder_bins = pd.cut(df_obj_by_gl['elder advantage'], bins=[-np.inf, -0.01, 0.99, 1.99, np.inf], labels=['Less Elders', 'Same Elders', '1 More Elder', '2+ More Elders'], right=True)\n",
    "df_obj_by_gl['baron_bins'] = baron_bins\n",
    "df_obj_by_gl['elder_bins'] = elder_bins\n",
    "df_obj_by_gl = df_obj_by_gl[['side', 'result', 'patch', 'gamelength_bins', 'baron advantage','baron_bins', 'elder advantage', 'elder_bins']]\n",
    "\n",
    "(df_obj_by_gl\n",
    " .groupby(['gamelength_bins', 'side'])\n",
    " [['result']].mean().unstack()\n",
    ")"
   ]
  },
  {
   "cell_type": "code",
   "execution_count": 172,
   "metadata": {},
   "outputs": [
    {
     "data": {
      "text/plain": [
       "baron advantage\n",
       "Less Barons       44561\n",
       "1 More Baron      32681\n",
       "Same Barons       14582\n",
       "2+ More Barons    11880\n",
       "Name: count, dtype: int64"
      ]
     },
     "execution_count": 172,
     "metadata": {},
     "output_type": "execute_result"
    }
   ],
   "source": [
    "baron_bins.value_counts()"
   ]
  },
  {
   "cell_type": "code",
   "execution_count": 173,
   "metadata": {},
   "outputs": [
    {
     "data": {
      "text/plain": [
       "elder advantage\n",
       "Same Elders       92502\n",
       "Less Elders        5645\n",
       "1 More Elder       5234\n",
       "2+ More Elders      411\n",
       "Name: count, dtype: int64"
      ]
     },
     "execution_count": 173,
     "metadata": {},
     "output_type": "execute_result"
    }
   ],
   "source": [
    "elder_bins.value_counts()"
   ]
  },
  {
   "cell_type": "code",
   "execution_count": 174,
   "metadata": {},
   "outputs": [
    {
     "data": {
      "text/html": [
       "<div>\n",
       "<style scoped>\n",
       "    .dataframe tbody tr th:only-of-type {\n",
       "        vertical-align: middle;\n",
       "    }\n",
       "\n",
       "    .dataframe tbody tr th {\n",
       "        vertical-align: top;\n",
       "    }\n",
       "\n",
       "    .dataframe thead tr th {\n",
       "        text-align: left;\n",
       "    }\n",
       "\n",
       "    .dataframe thead tr:last-of-type th {\n",
       "        text-align: right;\n",
       "    }\n",
       "</style>\n",
       "<table border=\"1\" class=\"dataframe\">\n",
       "  <thead>\n",
       "    <tr>\n",
       "      <th></th>\n",
       "      <th colspan=\"2\" halign=\"left\">Winrate</th>\n",
       "    </tr>\n",
       "    <tr>\n",
       "      <th>side</th>\n",
       "      <th>Blue</th>\n",
       "      <th>Red</th>\n",
       "    </tr>\n",
       "    <tr>\n",
       "      <th>baron_bins</th>\n",
       "      <th></th>\n",
       "      <th></th>\n",
       "    </tr>\n",
       "  </thead>\n",
       "  <tbody>\n",
       "    <tr>\n",
       "      <th>Less Barons</th>\n",
       "      <td>9.28</td>\n",
       "      <td>7.15</td>\n",
       "    </tr>\n",
       "    <tr>\n",
       "      <th>Same Barons</th>\n",
       "      <td>57.50</td>\n",
       "      <td>42.45</td>\n",
       "    </tr>\n",
       "    <tr>\n",
       "      <th>1 More Baron</th>\n",
       "      <td>92.82</td>\n",
       "      <td>90.11</td>\n",
       "    </tr>\n",
       "    <tr>\n",
       "      <th>2+ More Barons</th>\n",
       "      <td>92.92</td>\n",
       "      <td>92.17</td>\n",
       "    </tr>\n",
       "  </tbody>\n",
       "</table>\n",
       "</div>"
      ],
      "text/plain": [
       "               Winrate       \n",
       "side              Blue    Red\n",
       "baron_bins                   \n",
       "Less Barons       9.28   7.15\n",
       "Same Barons      57.50  42.45\n",
       "1 More Baron     92.82  90.11\n",
       "2+ More Barons   92.92  92.17"
      ]
     },
     "execution_count": 174,
     "metadata": {},
     "output_type": "execute_result"
    }
   ],
   "source": [
    "(df_obj_by_gl\n",
    " .groupby(['baron_bins', 'side'])\n",
    " [['result']].mean().unstack()\n",
    " .rename(columns={'result': 'Winrate'}) * 100\n",
    ").round(2)"
   ]
  },
  {
   "cell_type": "code",
   "execution_count": 176,
   "metadata": {},
   "outputs": [
    {
     "data": {
      "text/html": [
       "<div>\n",
       "<style scoped>\n",
       "    .dataframe tbody tr th:only-of-type {\n",
       "        vertical-align: middle;\n",
       "    }\n",
       "\n",
       "    .dataframe tbody tr th {\n",
       "        vertical-align: top;\n",
       "    }\n",
       "\n",
       "    .dataframe thead tr th {\n",
       "        text-align: left;\n",
       "    }\n",
       "\n",
       "    .dataframe thead tr:last-of-type th {\n",
       "        text-align: right;\n",
       "    }\n",
       "</style>\n",
       "<table border=\"1\" class=\"dataframe\">\n",
       "  <thead>\n",
       "    <tr>\n",
       "      <th></th>\n",
       "      <th colspan=\"2\" halign=\"left\">Winrate</th>\n",
       "    </tr>\n",
       "    <tr>\n",
       "      <th>side</th>\n",
       "      <th>Blue</th>\n",
       "      <th>Red</th>\n",
       "    </tr>\n",
       "    <tr>\n",
       "      <th>elder_bins</th>\n",
       "      <th></th>\n",
       "      <th></th>\n",
       "    </tr>\n",
       "  </thead>\n",
       "  <tbody>\n",
       "    <tr>\n",
       "      <th>Less Elders</th>\n",
       "      <td>16.79</td>\n",
       "      <td>19.42</td>\n",
       "    </tr>\n",
       "    <tr>\n",
       "      <th>Same Elders</th>\n",
       "      <td>53.62</td>\n",
       "      <td>46.36</td>\n",
       "    </tr>\n",
       "    <tr>\n",
       "      <th>1 More Elder</th>\n",
       "      <td>80.42</td>\n",
       "      <td>83.20</td>\n",
       "    </tr>\n",
       "    <tr>\n",
       "      <th>2+ More Elders</th>\n",
       "      <td>82.59</td>\n",
       "      <td>83.33</td>\n",
       "    </tr>\n",
       "  </tbody>\n",
       "</table>\n",
       "</div>"
      ],
      "text/plain": [
       "               Winrate       \n",
       "side              Blue    Red\n",
       "elder_bins                   \n",
       "Less Elders      16.79  19.42\n",
       "Same Elders      53.62  46.36\n",
       "1 More Elder     80.42  83.20\n",
       "2+ More Elders   82.59  83.33"
      ]
     },
     "execution_count": 176,
     "metadata": {},
     "output_type": "execute_result"
    }
   ],
   "source": [
    "(df_obj_by_gl\n",
    " .groupby(['elder_bins', 'side'])\n",
    " [['result']].mean().unstack()\n",
    "  .rename(columns={'result': 'Winrate'}) * 100\n",
    ").round(2)"
   ]
  },
  {
   "cell_type": "code",
   "execution_count": null,
   "metadata": {},
   "outputs": [],
   "source": []
  },
  {
   "cell_type": "markdown",
   "metadata": {},
   "source": [
    "### Assessment of Missingness"
   ]
  },
  {
   "cell_type": "code",
   "execution_count": 100,
   "metadata": {
    "ExecuteTime": {
     "end_time": "2019-10-31T23:36:28.662099Z",
     "start_time": "2019-10-31T23:36:28.660016Z"
    }
   },
   "outputs": [
    {
     "data": {
      "text/plain": [
       "Index(['gameid', 'datacompleteness', 'league', 'year', 'date', 'game', 'patch',\n",
       "       'side', 'position', 'playername', 'teamname', 'champion', 'gamelength',\n",
       "       'result', 'dragons', 'elders', 'opp_elders', 'heralds', 'barons',\n",
       "       'opp_barons', 'towers', 'inhibitors', 'vspm', 'Win?'],\n",
       "      dtype='object')"
      ]
     },
     "execution_count": 100,
     "metadata": {},
     "output_type": "execute_result"
    }
   ],
   "source": [
    "# TODO\n",
    "# We believe the Champion column to be missing by design, since each game contains 12 rows. \n",
    "#10 of those rows are for the individual players, and 2 are for the teams. The player columns have champions while the teams\n",
    "#do not, since they can be infered from the player rows.\n",
    "# We believe that the missingness found in the 'side' \n",
    "df.columns\n"
   ]
  },
  {
   "cell_type": "markdown",
   "metadata": {},
   "source": [
    "### Hypothesis Testing"
   ]
  },
  {
   "cell_type": "code",
   "execution_count": 101,
   "metadata": {
    "ExecuteTime": {
     "end_time": "2019-10-31T23:36:28.666489Z",
     "start_time": "2019-10-31T23:36:28.664381Z"
    }
   },
   "outputs": [],
   "source": [
    "# TODO"
   ]
  }
 ],
 "metadata": {
  "kernelspec": {
   "display_name": "Python 3 (ipykernel)",
   "language": "python",
   "name": "python3"
  },
  "language_info": {
   "codemirror_mode": {
    "name": "ipython",
    "version": 3
   },
   "file_extension": ".py",
   "mimetype": "text/x-python",
   "name": "python",
   "nbconvert_exporter": "python",
   "pygments_lexer": "ipython3",
   "version": "3.8.18"
  }
 },
 "nbformat": 4,
 "nbformat_minor": 2
}
