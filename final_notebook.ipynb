{
 "cells": [
  {
   "cell_type": "markdown",
   "metadata": {},
   "source": [
    "# Your Title Here\n",
    "\n",
    "**Name(s)**: (your name(s) here)\n",
    "\n",
    "**Website Link**: (your website link)"
   ]
  },
  {
   "cell_type": "markdown",
   "metadata": {},
   "source": [
    "## Code"
   ]
  },
  {
   "cell_type": "code",
   "execution_count": 1,
   "metadata": {
    "ExecuteTime": {
     "end_time": "2019-10-31T23:36:28.652554Z",
     "start_time": "2019-10-31T23:36:27.180520Z"
    }
   },
   "outputs": [],
   "source": [
    "import pandas as pd\n",
    "import numpy as np\n",
    "import os\n",
    "\n",
    "import plotly.express as px\n",
    "pd.options.plotting.backend = 'plotly'"
   ]
  },
  {
   "cell_type": "markdown",
   "metadata": {},
   "source": [
    "### Cleaning and EDA"
   ]
  },
  {
   "cell_type": "code",
   "execution_count": 43,
   "metadata": {},
   "outputs": [
    {
     "data": {
      "application/json": {
       "ascii": false,
       "bar_format": null,
       "colour": null,
       "elapsed": 0.00254058837890625,
       "initial": 0,
       "n": 0,
       "ncols": null,
       "nrows": null,
       "postfix": null,
       "prefix": "",
       "rate": null,
       "total": 10,
       "unit": "it",
       "unit_divisor": 1000,
       "unit_scale": false
      },
      "application/vnd.jupyter.widget-view+json": {
       "model_id": "688dbb8979e4426ebc82b6b42f4f9cef",
       "version_major": 2,
       "version_minor": 0
      },
      "text/plain": [
       "  0%|          | 0/10 [00:00<?, ?it/s]"
      ]
     },
     "metadata": {},
     "output_type": "display_data"
    }
   ],
   "source": [
    "# Reading the data\n",
    "fp = r\"data\\2014_LoL_esports_match_data_from_OraclesElixir.csv\"\n",
    "df = pd.read_csv(fp, index_col=0)\n",
    "from tqdm.notebook import tqdm\n",
    "import os\n",
    "\n",
    "pd.set_option('display.max_columns', None)\n",
    "\n",
    "directory = r'data'\n",
    "usecols = ['gameid','datacompleteness', 'league', 'year', 'date', 'patch', \n",
    "           'side', 'position', 'playername', 'teamname', 'champion', 'gamelength', 'result',\n",
    "           'barons', 'opp_barons', 'dragons', 'elders', 'opp_elders']\n",
    "\n",
    "df = pd.DataFrame()\n",
    "for filename in tqdm(os.listdir(directory)):\n",
    "    new_df = pd.read_csv(os.path.join(directory, filename), usecols=usecols)\n",
    "    df = pd.concat([df, new_df])"
   ]
  },
  {
   "cell_type": "code",
   "execution_count": 44,
   "metadata": {},
   "outputs": [],
   "source": [
    "# Data Cleaning\n",
    "# Convert date to datetime\n",
    "df['date'] = pd.to_datetime(df['date'])\n",
    "\n",
    "# Remove games after October 2023 (the current league is still ongoing)\n",
    "time_cutoff = pd.to_datetime('2023-10-01')\n",
    "\n",
    "df = df[df['date'] < time_cutoff]\n",
    "df['Win?'] = df['result'].map({0: 'Loss', 1: 'Win'})\n",
    "\n",
    "# Filter out incomplete data, and fill in NA player names with 'unknown player'\n",
    "df = df[df['datacompleteness'] == 'complete']\n",
    "df = df.drop(columns=['datacompleteness'])\n",
    "df_teams = df.query('position == \"team\"')\n",
    "df_teams = df_teams.drop(columns=['gameid','position', 'playername', 'champion', 'teamname'])\n",
    "df_players = df.query('position != \"team\"')\n"
   ]
  },
  {
   "cell_type": "code",
   "execution_count": 45,
   "metadata": {},
   "outputs": [
    {
     "data": {
      "text/html": [
       "<div>\n",
       "<style scoped>\n",
       "    .dataframe tbody tr th:only-of-type {\n",
       "        vertical-align: middle;\n",
       "    }\n",
       "\n",
       "    .dataframe tbody tr th {\n",
       "        vertical-align: top;\n",
       "    }\n",
       "\n",
       "    .dataframe thead th {\n",
       "        text-align: right;\n",
       "    }\n",
       "</style>\n",
       "<table border=\"1\" class=\"dataframe\">\n",
       "  <thead>\n",
       "    <tr style=\"text-align: right;\">\n",
       "      <th></th>\n",
       "      <th>gameid</th>\n",
       "      <th>league</th>\n",
       "      <th>year</th>\n",
       "      <th>date</th>\n",
       "      <th>patch</th>\n",
       "      <th>side</th>\n",
       "      <th>position</th>\n",
       "      <th>playername</th>\n",
       "      <th>teamname</th>\n",
       "      <th>champion</th>\n",
       "      <th>gamelength</th>\n",
       "      <th>result</th>\n",
       "      <th>dragons</th>\n",
       "      <th>elders</th>\n",
       "      <th>opp_elders</th>\n",
       "      <th>barons</th>\n",
       "      <th>opp_barons</th>\n",
       "      <th>Win?</th>\n",
       "    </tr>\n",
       "  </thead>\n",
       "  <tbody>\n",
       "    <tr>\n",
       "      <th>0</th>\n",
       "      <td>TRLH3/33</td>\n",
       "      <td>EU LCS</td>\n",
       "      <td>2014</td>\n",
       "      <td>2014-01-14 17:52:02</td>\n",
       "      <td>3.15</td>\n",
       "      <td>Blue</td>\n",
       "      <td>top</td>\n",
       "      <td>sOAZ</td>\n",
       "      <td>Fnatic</td>\n",
       "      <td>Trundle</td>\n",
       "      <td>1924</td>\n",
       "      <td>1</td>\n",
       "      <td>NaN</td>\n",
       "      <td>NaN</td>\n",
       "      <td>NaN</td>\n",
       "      <td>NaN</td>\n",
       "      <td>NaN</td>\n",
       "      <td>Win</td>\n",
       "    </tr>\n",
       "    <tr>\n",
       "      <th>1</th>\n",
       "      <td>TRLH3/33</td>\n",
       "      <td>EU LCS</td>\n",
       "      <td>2014</td>\n",
       "      <td>2014-01-14 17:52:02</td>\n",
       "      <td>3.15</td>\n",
       "      <td>Blue</td>\n",
       "      <td>jng</td>\n",
       "      <td>Cyanide</td>\n",
       "      <td>Fnatic</td>\n",
       "      <td>Vi</td>\n",
       "      <td>1924</td>\n",
       "      <td>1</td>\n",
       "      <td>NaN</td>\n",
       "      <td>NaN</td>\n",
       "      <td>NaN</td>\n",
       "      <td>NaN</td>\n",
       "      <td>NaN</td>\n",
       "      <td>Win</td>\n",
       "    </tr>\n",
       "    <tr>\n",
       "      <th>2</th>\n",
       "      <td>TRLH3/33</td>\n",
       "      <td>EU LCS</td>\n",
       "      <td>2014</td>\n",
       "      <td>2014-01-14 17:52:02</td>\n",
       "      <td>3.15</td>\n",
       "      <td>Blue</td>\n",
       "      <td>mid</td>\n",
       "      <td>xPeke</td>\n",
       "      <td>Fnatic</td>\n",
       "      <td>Orianna</td>\n",
       "      <td>1924</td>\n",
       "      <td>1</td>\n",
       "      <td>NaN</td>\n",
       "      <td>NaN</td>\n",
       "      <td>NaN</td>\n",
       "      <td>NaN</td>\n",
       "      <td>NaN</td>\n",
       "      <td>Win</td>\n",
       "    </tr>\n",
       "    <tr>\n",
       "      <th>3</th>\n",
       "      <td>TRLH3/33</td>\n",
       "      <td>EU LCS</td>\n",
       "      <td>2014</td>\n",
       "      <td>2014-01-14 17:52:02</td>\n",
       "      <td>3.15</td>\n",
       "      <td>Blue</td>\n",
       "      <td>bot</td>\n",
       "      <td>Rekkles</td>\n",
       "      <td>Fnatic</td>\n",
       "      <td>Jinx</td>\n",
       "      <td>1924</td>\n",
       "      <td>1</td>\n",
       "      <td>NaN</td>\n",
       "      <td>NaN</td>\n",
       "      <td>NaN</td>\n",
       "      <td>NaN</td>\n",
       "      <td>NaN</td>\n",
       "      <td>Win</td>\n",
       "    </tr>\n",
       "    <tr>\n",
       "      <th>4</th>\n",
       "      <td>TRLH3/33</td>\n",
       "      <td>EU LCS</td>\n",
       "      <td>2014</td>\n",
       "      <td>2014-01-14 17:52:02</td>\n",
       "      <td>3.15</td>\n",
       "      <td>Blue</td>\n",
       "      <td>sup</td>\n",
       "      <td>YellOwStaR</td>\n",
       "      <td>Fnatic</td>\n",
       "      <td>Annie</td>\n",
       "      <td>1924</td>\n",
       "      <td>1</td>\n",
       "      <td>NaN</td>\n",
       "      <td>NaN</td>\n",
       "      <td>NaN</td>\n",
       "      <td>NaN</td>\n",
       "      <td>NaN</td>\n",
       "      <td>Win</td>\n",
       "    </tr>\n",
       "    <tr>\n",
       "      <th>...</th>\n",
       "      <td>...</td>\n",
       "      <td>...</td>\n",
       "      <td>...</td>\n",
       "      <td>...</td>\n",
       "      <td>...</td>\n",
       "      <td>...</td>\n",
       "      <td>...</td>\n",
       "      <td>...</td>\n",
       "      <td>...</td>\n",
       "      <td>...</td>\n",
       "      <td>...</td>\n",
       "      <td>...</td>\n",
       "      <td>...</td>\n",
       "      <td>...</td>\n",
       "      <td>...</td>\n",
       "      <td>...</td>\n",
       "      <td>...</td>\n",
       "      <td>...</td>\n",
       "    </tr>\n",
       "    <tr>\n",
       "      <th>122635</th>\n",
       "      <td>ESPORTSTMNT05_3242449</td>\n",
       "      <td>CDF</td>\n",
       "      <td>2023</td>\n",
       "      <td>2023-09-29 17:15:44</td>\n",
       "      <td>13.18</td>\n",
       "      <td>Red</td>\n",
       "      <td>mid</td>\n",
       "      <td>Peng</td>\n",
       "      <td>Solary</td>\n",
       "      <td>Lucian</td>\n",
       "      <td>1550</td>\n",
       "      <td>0</td>\n",
       "      <td>NaN</td>\n",
       "      <td>NaN</td>\n",
       "      <td>NaN</td>\n",
       "      <td>0.0</td>\n",
       "      <td>0.0</td>\n",
       "      <td>Loss</td>\n",
       "    </tr>\n",
       "    <tr>\n",
       "      <th>122636</th>\n",
       "      <td>ESPORTSTMNT05_3242449</td>\n",
       "      <td>CDF</td>\n",
       "      <td>2023</td>\n",
       "      <td>2023-09-29 17:15:44</td>\n",
       "      <td>13.18</td>\n",
       "      <td>Red</td>\n",
       "      <td>bot</td>\n",
       "      <td>TakeSet</td>\n",
       "      <td>Solary</td>\n",
       "      <td>Kai'Sa</td>\n",
       "      <td>1550</td>\n",
       "      <td>0</td>\n",
       "      <td>NaN</td>\n",
       "      <td>NaN</td>\n",
       "      <td>NaN</td>\n",
       "      <td>0.0</td>\n",
       "      <td>0.0</td>\n",
       "      <td>Loss</td>\n",
       "    </tr>\n",
       "    <tr>\n",
       "      <th>122637</th>\n",
       "      <td>ESPORTSTMNT05_3242449</td>\n",
       "      <td>CDF</td>\n",
       "      <td>2023</td>\n",
       "      <td>2023-09-29 17:15:44</td>\n",
       "      <td>13.18</td>\n",
       "      <td>Red</td>\n",
       "      <td>sup</td>\n",
       "      <td>Steeelback</td>\n",
       "      <td>Solary</td>\n",
       "      <td>Alistar</td>\n",
       "      <td>1550</td>\n",
       "      <td>0</td>\n",
       "      <td>NaN</td>\n",
       "      <td>NaN</td>\n",
       "      <td>NaN</td>\n",
       "      <td>0.0</td>\n",
       "      <td>0.0</td>\n",
       "      <td>Loss</td>\n",
       "    </tr>\n",
       "    <tr>\n",
       "      <th>122638</th>\n",
       "      <td>ESPORTSTMNT05_3242449</td>\n",
       "      <td>CDF</td>\n",
       "      <td>2023</td>\n",
       "      <td>2023-09-29 17:15:44</td>\n",
       "      <td>13.18</td>\n",
       "      <td>Blue</td>\n",
       "      <td>team</td>\n",
       "      <td>NaN</td>\n",
       "      <td>Team du Sud</td>\n",
       "      <td>NaN</td>\n",
       "      <td>1550</td>\n",
       "      <td>1</td>\n",
       "      <td>3.0</td>\n",
       "      <td>0.0</td>\n",
       "      <td>0.0</td>\n",
       "      <td>1.0</td>\n",
       "      <td>0.0</td>\n",
       "      <td>Win</td>\n",
       "    </tr>\n",
       "    <tr>\n",
       "      <th>122639</th>\n",
       "      <td>ESPORTSTMNT05_3242449</td>\n",
       "      <td>CDF</td>\n",
       "      <td>2023</td>\n",
       "      <td>2023-09-29 17:15:44</td>\n",
       "      <td>13.18</td>\n",
       "      <td>Red</td>\n",
       "      <td>team</td>\n",
       "      <td>NaN</td>\n",
       "      <td>Solary</td>\n",
       "      <td>NaN</td>\n",
       "      <td>1550</td>\n",
       "      <td>0</td>\n",
       "      <td>1.0</td>\n",
       "      <td>0.0</td>\n",
       "      <td>0.0</td>\n",
       "      <td>0.0</td>\n",
       "      <td>1.0</td>\n",
       "      <td>Loss</td>\n",
       "    </tr>\n",
       "  </tbody>\n",
       "</table>\n",
       "<p>723264 rows × 18 columns</p>\n",
       "</div>"
      ],
      "text/plain": [
       "                       gameid  league  year                date  patch  side  \\\n",
       "0                    TRLH3/33  EU LCS  2014 2014-01-14 17:52:02   3.15  Blue   \n",
       "1                    TRLH3/33  EU LCS  2014 2014-01-14 17:52:02   3.15  Blue   \n",
       "2                    TRLH3/33  EU LCS  2014 2014-01-14 17:52:02   3.15  Blue   \n",
       "3                    TRLH3/33  EU LCS  2014 2014-01-14 17:52:02   3.15  Blue   \n",
       "4                    TRLH3/33  EU LCS  2014 2014-01-14 17:52:02   3.15  Blue   \n",
       "...                       ...     ...   ...                 ...    ...   ...   \n",
       "122635  ESPORTSTMNT05_3242449     CDF  2023 2023-09-29 17:15:44  13.18   Red   \n",
       "122636  ESPORTSTMNT05_3242449     CDF  2023 2023-09-29 17:15:44  13.18   Red   \n",
       "122637  ESPORTSTMNT05_3242449     CDF  2023 2023-09-29 17:15:44  13.18   Red   \n",
       "122638  ESPORTSTMNT05_3242449     CDF  2023 2023-09-29 17:15:44  13.18  Blue   \n",
       "122639  ESPORTSTMNT05_3242449     CDF  2023 2023-09-29 17:15:44  13.18   Red   \n",
       "\n",
       "       position  playername     teamname champion  gamelength  result  \\\n",
       "0           top        sOAZ       Fnatic  Trundle        1924       1   \n",
       "1           jng     Cyanide       Fnatic       Vi        1924       1   \n",
       "2           mid       xPeke       Fnatic  Orianna        1924       1   \n",
       "3           bot     Rekkles       Fnatic     Jinx        1924       1   \n",
       "4           sup  YellOwStaR       Fnatic    Annie        1924       1   \n",
       "...         ...         ...          ...      ...         ...     ...   \n",
       "122635      mid        Peng       Solary   Lucian        1550       0   \n",
       "122636      bot     TakeSet       Solary   Kai'Sa        1550       0   \n",
       "122637      sup  Steeelback       Solary  Alistar        1550       0   \n",
       "122638     team         NaN  Team du Sud      NaN        1550       1   \n",
       "122639     team         NaN       Solary      NaN        1550       0   \n",
       "\n",
       "        dragons  elders  opp_elders  barons  opp_barons  Win?  \n",
       "0           NaN     NaN         NaN     NaN         NaN   Win  \n",
       "1           NaN     NaN         NaN     NaN         NaN   Win  \n",
       "2           NaN     NaN         NaN     NaN         NaN   Win  \n",
       "3           NaN     NaN         NaN     NaN         NaN   Win  \n",
       "4           NaN     NaN         NaN     NaN         NaN   Win  \n",
       "...         ...     ...         ...     ...         ...   ...  \n",
       "122635      NaN     NaN         NaN     0.0         0.0  Loss  \n",
       "122636      NaN     NaN         NaN     0.0         0.0  Loss  \n",
       "122637      NaN     NaN         NaN     0.0         0.0  Loss  \n",
       "122638      3.0     0.0         0.0     1.0         0.0   Win  \n",
       "122639      1.0     0.0         0.0     0.0         1.0  Loss  \n",
       "\n",
       "[723264 rows x 18 columns]"
      ]
     },
     "execution_count": 45,
     "metadata": {},
     "output_type": "execute_result"
    }
   ],
   "source": [
    "df"
   ]
  },
  {
   "cell_type": "code",
   "execution_count": 46,
   "metadata": {},
   "outputs": [
    {
     "name": "stdout",
     "output_type": "stream",
     "text": [
      "|    | league   |   year | date                |   patch | side   |   gamelength |   result |   dragons |   elders |   opp_elders |   barons |   opp_barons | Win?   |\n",
      "|---:|:---------|-------:|:--------------------|--------:|:-------|-------------:|---------:|----------:|---------:|-------------:|---------:|-------------:|:-------|\n",
      "| 10 | EU LCS   |   2014 | 2014-01-14 17:52:02 |    3.15 | Blue   |         1924 |        1 |         0 |        0 |            0 |        1 |            0 | Win    |\n",
      "| 11 | EU LCS   |   2014 | 2014-01-14 17:52:02 |    3.15 | Red    |         1924 |        0 |         0 |        0 |            0 |        0 |            1 | Loss   |\n",
      "| 22 | EU LCS   |   2014 | 2014-01-14 19:16:29 |    3.15 | Blue   |         2474 |        1 |         0 |        0 |            0 |        1 |            0 | Win    |\n",
      "| 23 | EU LCS   |   2014 | 2014-01-14 19:16:29 |    3.15 | Red    |         2474 |        0 |         0 |        0 |            0 |        0 |            1 | Loss   |\n",
      "| 34 | EU LCS   |   2014 | 2014-01-14 21:28:45 |    3.15 | Blue   |         2629 |        0 |         0 |        0 |            0 |        0 |            1 | Loss   |\n"
     ]
    }
   ],
   "source": [
    "print(df_teams.head().to_markdown())"
   ]
  },
  {
   "cell_type": "code",
   "execution_count": 47,
   "metadata": {},
   "outputs": [],
   "source": [
    "df_teams.head().to_markdown('df_teams.md')"
   ]
  },
  {
   "cell_type": "code",
   "execution_count": 48,
   "metadata": {},
   "outputs": [
    {
     "data": {
      "text/plain": [
       "league\n",
       "AL        0.000000\n",
       "NASG      0.000000\n",
       "NACL      0.000000\n",
       "NA LCS    0.000000\n",
       "NA CS     0.000000\n",
       "            ...   \n",
       "EUM       0.000000\n",
       "IC        0.000000\n",
       "WLDs      0.000000\n",
       "OTBLX     0.122222\n",
       "EGL       1.000000\n",
       "Name: missing_dragons, Length: 95, dtype: float64"
      ]
     },
     "execution_count": 48,
     "metadata": {},
     "output_type": "execute_result"
    }
   ],
   "source": [
    "df_teams['missing_dragons'] = df_teams['dragons'].isna()\n",
    "df_teams.groupby('league')['missing_dragons'].mean().sort_values()"
   ]
  },
  {
   "cell_type": "code",
   "execution_count": 49,
   "metadata": {},
   "outputs": [
    {
     "name": "stdout",
     "output_type": "stream",
     "text": [
      "None\n"
     ]
    }
   ],
   "source": [
    "print(df_teams.head().to_markdown('assets/df_teams.md'))"
   ]
  },
  {
   "cell_type": "code",
   "execution_count": 50,
   "metadata": {},
   "outputs": [],
   "source": [
    "df_teams.head().to_markdown('assets/df_teams.md')"
   ]
  },
  {
   "cell_type": "code",
   "execution_count": 51,
   "metadata": {},
   "outputs": [
    {
     "data": {
      "application/vnd.plotly.v1+json": {
       "config": {
        "plotlyServerURL": "https://plot.ly"
       },
       "data": [
        {
         "domain": {
          "x": [
           0,
           1
          ],
          "y": [
           0,
           1
          ]
         },
         "hovertemplate": "%{label} side winrate: %{value:.2f}%",
         "labels": [
          "Blue",
          "Red"
         ],
         "legendgroup": "",
         "name": "",
         "showlegend": true,
         "textinfo": "percent+label",
         "textposition": "inside",
         "type": "pie",
         "values": [
          53.20546854260685,
          46.78457658614282
         ]
        }
       ],
       "layout": {
        "hovermode": "x",
        "legend": {
         "tracegroupgap": 0
        },
        "showlegend": false,
        "template": {
         "data": {
          "bar": [
           {
            "error_x": {
             "color": "#f2f5fa"
            },
            "error_y": {
             "color": "#f2f5fa"
            },
            "marker": {
             "line": {
              "color": "rgb(17,17,17)",
              "width": 0.5
             },
             "pattern": {
              "fillmode": "overlay",
              "size": 10,
              "solidity": 0.2
             }
            },
            "type": "bar"
           }
          ],
          "barpolar": [
           {
            "marker": {
             "line": {
              "color": "rgb(17,17,17)",
              "width": 0.5
             },
             "pattern": {
              "fillmode": "overlay",
              "size": 10,
              "solidity": 0.2
             }
            },
            "type": "barpolar"
           }
          ],
          "carpet": [
           {
            "aaxis": {
             "endlinecolor": "#A2B1C6",
             "gridcolor": "#506784",
             "linecolor": "#506784",
             "minorgridcolor": "#506784",
             "startlinecolor": "#A2B1C6"
            },
            "baxis": {
             "endlinecolor": "#A2B1C6",
             "gridcolor": "#506784",
             "linecolor": "#506784",
             "minorgridcolor": "#506784",
             "startlinecolor": "#A2B1C6"
            },
            "type": "carpet"
           }
          ],
          "choropleth": [
           {
            "colorbar": {
             "outlinewidth": 0,
             "ticks": ""
            },
            "type": "choropleth"
           }
          ],
          "contour": [
           {
            "colorbar": {
             "outlinewidth": 0,
             "ticks": ""
            },
            "colorscale": [
             [
              0,
              "#0d0887"
             ],
             [
              0.1111111111111111,
              "#46039f"
             ],
             [
              0.2222222222222222,
              "#7201a8"
             ],
             [
              0.3333333333333333,
              "#9c179e"
             ],
             [
              0.4444444444444444,
              "#bd3786"
             ],
             [
              0.5555555555555556,
              "#d8576b"
             ],
             [
              0.6666666666666666,
              "#ed7953"
             ],
             [
              0.7777777777777778,
              "#fb9f3a"
             ],
             [
              0.8888888888888888,
              "#fdca26"
             ],
             [
              1,
              "#f0f921"
             ]
            ],
            "type": "contour"
           }
          ],
          "contourcarpet": [
           {
            "colorbar": {
             "outlinewidth": 0,
             "ticks": ""
            },
            "type": "contourcarpet"
           }
          ],
          "heatmap": [
           {
            "colorbar": {
             "outlinewidth": 0,
             "ticks": ""
            },
            "colorscale": [
             [
              0,
              "#0d0887"
             ],
             [
              0.1111111111111111,
              "#46039f"
             ],
             [
              0.2222222222222222,
              "#7201a8"
             ],
             [
              0.3333333333333333,
              "#9c179e"
             ],
             [
              0.4444444444444444,
              "#bd3786"
             ],
             [
              0.5555555555555556,
              "#d8576b"
             ],
             [
              0.6666666666666666,
              "#ed7953"
             ],
             [
              0.7777777777777778,
              "#fb9f3a"
             ],
             [
              0.8888888888888888,
              "#fdca26"
             ],
             [
              1,
              "#f0f921"
             ]
            ],
            "type": "heatmap"
           }
          ],
          "heatmapgl": [
           {
            "colorbar": {
             "outlinewidth": 0,
             "ticks": ""
            },
            "colorscale": [
             [
              0,
              "#0d0887"
             ],
             [
              0.1111111111111111,
              "#46039f"
             ],
             [
              0.2222222222222222,
              "#7201a8"
             ],
             [
              0.3333333333333333,
              "#9c179e"
             ],
             [
              0.4444444444444444,
              "#bd3786"
             ],
             [
              0.5555555555555556,
              "#d8576b"
             ],
             [
              0.6666666666666666,
              "#ed7953"
             ],
             [
              0.7777777777777778,
              "#fb9f3a"
             ],
             [
              0.8888888888888888,
              "#fdca26"
             ],
             [
              1,
              "#f0f921"
             ]
            ],
            "type": "heatmapgl"
           }
          ],
          "histogram": [
           {
            "marker": {
             "pattern": {
              "fillmode": "overlay",
              "size": 10,
              "solidity": 0.2
             }
            },
            "type": "histogram"
           }
          ],
          "histogram2d": [
           {
            "colorbar": {
             "outlinewidth": 0,
             "ticks": ""
            },
            "colorscale": [
             [
              0,
              "#0d0887"
             ],
             [
              0.1111111111111111,
              "#46039f"
             ],
             [
              0.2222222222222222,
              "#7201a8"
             ],
             [
              0.3333333333333333,
              "#9c179e"
             ],
             [
              0.4444444444444444,
              "#bd3786"
             ],
             [
              0.5555555555555556,
              "#d8576b"
             ],
             [
              0.6666666666666666,
              "#ed7953"
             ],
             [
              0.7777777777777778,
              "#fb9f3a"
             ],
             [
              0.8888888888888888,
              "#fdca26"
             ],
             [
              1,
              "#f0f921"
             ]
            ],
            "type": "histogram2d"
           }
          ],
          "histogram2dcontour": [
           {
            "colorbar": {
             "outlinewidth": 0,
             "ticks": ""
            },
            "colorscale": [
             [
              0,
              "#0d0887"
             ],
             [
              0.1111111111111111,
              "#46039f"
             ],
             [
              0.2222222222222222,
              "#7201a8"
             ],
             [
              0.3333333333333333,
              "#9c179e"
             ],
             [
              0.4444444444444444,
              "#bd3786"
             ],
             [
              0.5555555555555556,
              "#d8576b"
             ],
             [
              0.6666666666666666,
              "#ed7953"
             ],
             [
              0.7777777777777778,
              "#fb9f3a"
             ],
             [
              0.8888888888888888,
              "#fdca26"
             ],
             [
              1,
              "#f0f921"
             ]
            ],
            "type": "histogram2dcontour"
           }
          ],
          "mesh3d": [
           {
            "colorbar": {
             "outlinewidth": 0,
             "ticks": ""
            },
            "type": "mesh3d"
           }
          ],
          "parcoords": [
           {
            "line": {
             "colorbar": {
              "outlinewidth": 0,
              "ticks": ""
             }
            },
            "type": "parcoords"
           }
          ],
          "pie": [
           {
            "automargin": true,
            "type": "pie"
           }
          ],
          "scatter": [
           {
            "marker": {
             "line": {
              "color": "#283442"
             }
            },
            "type": "scatter"
           }
          ],
          "scatter3d": [
           {
            "line": {
             "colorbar": {
              "outlinewidth": 0,
              "ticks": ""
             }
            },
            "marker": {
             "colorbar": {
              "outlinewidth": 0,
              "ticks": ""
             }
            },
            "type": "scatter3d"
           }
          ],
          "scattercarpet": [
           {
            "marker": {
             "colorbar": {
              "outlinewidth": 0,
              "ticks": ""
             }
            },
            "type": "scattercarpet"
           }
          ],
          "scattergeo": [
           {
            "marker": {
             "colorbar": {
              "outlinewidth": 0,
              "ticks": ""
             }
            },
            "type": "scattergeo"
           }
          ],
          "scattergl": [
           {
            "marker": {
             "line": {
              "color": "#283442"
             }
            },
            "type": "scattergl"
           }
          ],
          "scattermapbox": [
           {
            "marker": {
             "colorbar": {
              "outlinewidth": 0,
              "ticks": ""
             }
            },
            "type": "scattermapbox"
           }
          ],
          "scatterpolar": [
           {
            "marker": {
             "colorbar": {
              "outlinewidth": 0,
              "ticks": ""
             }
            },
            "type": "scatterpolar"
           }
          ],
          "scatterpolargl": [
           {
            "marker": {
             "colorbar": {
              "outlinewidth": 0,
              "ticks": ""
             }
            },
            "type": "scatterpolargl"
           }
          ],
          "scatterternary": [
           {
            "marker": {
             "colorbar": {
              "outlinewidth": 0,
              "ticks": ""
             }
            },
            "type": "scatterternary"
           }
          ],
          "surface": [
           {
            "colorbar": {
             "outlinewidth": 0,
             "ticks": ""
            },
            "colorscale": [
             [
              0,
              "#0d0887"
             ],
             [
              0.1111111111111111,
              "#46039f"
             ],
             [
              0.2222222222222222,
              "#7201a8"
             ],
             [
              0.3333333333333333,
              "#9c179e"
             ],
             [
              0.4444444444444444,
              "#bd3786"
             ],
             [
              0.5555555555555556,
              "#d8576b"
             ],
             [
              0.6666666666666666,
              "#ed7953"
             ],
             [
              0.7777777777777778,
              "#fb9f3a"
             ],
             [
              0.8888888888888888,
              "#fdca26"
             ],
             [
              1,
              "#f0f921"
             ]
            ],
            "type": "surface"
           }
          ],
          "table": [
           {
            "cells": {
             "fill": {
              "color": "#506784"
             },
             "line": {
              "color": "rgb(17,17,17)"
             }
            },
            "header": {
             "fill": {
              "color": "#2a3f5f"
             },
             "line": {
              "color": "rgb(17,17,17)"
             }
            },
            "type": "table"
           }
          ]
         },
         "layout": {
          "annotationdefaults": {
           "arrowcolor": "#f2f5fa",
           "arrowhead": 0,
           "arrowwidth": 1
          },
          "autotypenumbers": "strict",
          "coloraxis": {
           "colorbar": {
            "outlinewidth": 0,
            "ticks": ""
           }
          },
          "colorscale": {
           "diverging": [
            [
             0,
             "#8e0152"
            ],
            [
             0.1,
             "#c51b7d"
            ],
            [
             0.2,
             "#de77ae"
            ],
            [
             0.3,
             "#f1b6da"
            ],
            [
             0.4,
             "#fde0ef"
            ],
            [
             0.5,
             "#f7f7f7"
            ],
            [
             0.6,
             "#e6f5d0"
            ],
            [
             0.7,
             "#b8e186"
            ],
            [
             0.8,
             "#7fbc41"
            ],
            [
             0.9,
             "#4d9221"
            ],
            [
             1,
             "#276419"
            ]
           ],
           "sequential": [
            [
             0,
             "#0d0887"
            ],
            [
             0.1111111111111111,
             "#46039f"
            ],
            [
             0.2222222222222222,
             "#7201a8"
            ],
            [
             0.3333333333333333,
             "#9c179e"
            ],
            [
             0.4444444444444444,
             "#bd3786"
            ],
            [
             0.5555555555555556,
             "#d8576b"
            ],
            [
             0.6666666666666666,
             "#ed7953"
            ],
            [
             0.7777777777777778,
             "#fb9f3a"
            ],
            [
             0.8888888888888888,
             "#fdca26"
            ],
            [
             1,
             "#f0f921"
            ]
           ],
           "sequentialminus": [
            [
             0,
             "#0d0887"
            ],
            [
             0.1111111111111111,
             "#46039f"
            ],
            [
             0.2222222222222222,
             "#7201a8"
            ],
            [
             0.3333333333333333,
             "#9c179e"
            ],
            [
             0.4444444444444444,
             "#bd3786"
            ],
            [
             0.5555555555555556,
             "#d8576b"
            ],
            [
             0.6666666666666666,
             "#ed7953"
            ],
            [
             0.7777777777777778,
             "#fb9f3a"
            ],
            [
             0.8888888888888888,
             "#fdca26"
            ],
            [
             1,
             "#f0f921"
            ]
           ]
          },
          "colorway": [
           "#636efa",
           "#EF553B",
           "#00cc96",
           "#ab63fa",
           "#FFA15A",
           "#19d3f3",
           "#FF6692",
           "#B6E880",
           "#FF97FF",
           "#FECB52"
          ],
          "font": {
           "color": "#f2f5fa"
          },
          "geo": {
           "bgcolor": "rgb(17,17,17)",
           "lakecolor": "rgb(17,17,17)",
           "landcolor": "rgb(17,17,17)",
           "showlakes": true,
           "showland": true,
           "subunitcolor": "#506784"
          },
          "hoverlabel": {
           "align": "left"
          },
          "hovermode": "closest",
          "mapbox": {
           "style": "dark"
          },
          "paper_bgcolor": "rgb(17,17,17)",
          "plot_bgcolor": "rgb(17,17,17)",
          "polar": {
           "angularaxis": {
            "gridcolor": "#506784",
            "linecolor": "#506784",
            "ticks": ""
           },
           "bgcolor": "rgb(17,17,17)",
           "radialaxis": {
            "gridcolor": "#506784",
            "linecolor": "#506784",
            "ticks": ""
           }
          },
          "scene": {
           "xaxis": {
            "backgroundcolor": "rgb(17,17,17)",
            "gridcolor": "#506784",
            "gridwidth": 2,
            "linecolor": "#506784",
            "showbackground": true,
            "ticks": "",
            "zerolinecolor": "#C8D4E3"
           },
           "yaxis": {
            "backgroundcolor": "rgb(17,17,17)",
            "gridcolor": "#506784",
            "gridwidth": 2,
            "linecolor": "#506784",
            "showbackground": true,
            "ticks": "",
            "zerolinecolor": "#C8D4E3"
           },
           "zaxis": {
            "backgroundcolor": "rgb(17,17,17)",
            "gridcolor": "#506784",
            "gridwidth": 2,
            "linecolor": "#506784",
            "showbackground": true,
            "ticks": "",
            "zerolinecolor": "#C8D4E3"
           }
          },
          "shapedefaults": {
           "line": {
            "color": "#f2f5fa"
           }
          },
          "sliderdefaults": {
           "bgcolor": "#C8D4E3",
           "bordercolor": "rgb(17,17,17)",
           "borderwidth": 1,
           "tickwidth": 0
          },
          "ternary": {
           "aaxis": {
            "gridcolor": "#506784",
            "linecolor": "#506784",
            "ticks": ""
           },
           "baxis": {
            "gridcolor": "#506784",
            "linecolor": "#506784",
            "ticks": ""
           },
           "bgcolor": "rgb(17,17,17)",
           "caxis": {
            "gridcolor": "#506784",
            "linecolor": "#506784",
            "ticks": ""
           }
          },
          "title": {
           "x": 0.05
          },
          "updatemenudefaults": {
           "bgcolor": "#506784",
           "borderwidth": 0
          },
          "xaxis": {
           "automargin": true,
           "gridcolor": "#283442",
           "linecolor": "#506784",
           "ticks": "",
           "title": {
            "standoff": 15
           },
           "zerolinecolor": "#283442",
           "zerolinewidth": 2
          },
          "yaxis": {
           "automargin": true,
           "gridcolor": "#283442",
           "linecolor": "#506784",
           "ticks": "",
           "title": {
            "standoff": 15
           },
           "zerolinecolor": "#283442",
           "zerolinewidth": 2
          }
         }
        },
        "title": {
         "text": "Win Rate by Side"
        }
       }
      }
     },
     "metadata": {},
     "output_type": "display_data"
    }
   ],
   "source": [
    "univ = df_teams.groupby('side')['result'].mean()*100\n",
    "fig = px.pie(univ, values='result', names=univ.index, title='Win Rate by Side', template='plotly_dark')\n",
    "fig.update_layout(showlegend=False, hovermode='x')\n",
    "fig.update_traces(textposition='inside', textinfo='percent+label', hovertemplate='%{label} side winrate: %{value:.2f}%')\n",
    "fig.write_html('assets/univariate.html', include_plotlyjs='cdn')\n",
    "fig.show()"
   ]
  },
  {
   "cell_type": "code",
   "execution_count": 52,
   "metadata": {},
   "outputs": [],
   "source": [
    "def convert_minutes(s):\n",
    "    m = s // 60\n",
    "    s = s % 60\n",
    "    return f'{m}:{s:02d}'"
   ]
  },
  {
   "cell_type": "code",
   "execution_count": 96,
   "metadata": {},
   "outputs": [
    {
     "data": {
      "application/vnd.plotly.v1+json": {
       "config": {
        "plotlyServerURL": "https://plot.ly"
       },
       "data": [
        {
         "alignmentgroup": "True",
         "customdata": [
          [
           70662,
           58.620231952348554
          ],
          [
           44070,
           36.559871248195655
          ],
          [
           5810,
           4.819896799455791
          ]
         ],
         "hovertemplate": "Length: %{x}<br>Blue Winrate Advantage: %{y}%<br>%{customdata[0]:,} Games<br>(%{customdata[1]:.2f}% of all Games)",
         "legendgroup": "blue_wr_advantage",
         "marker": {
          "color": "#636efa",
          "pattern": {
           "shape": ""
          }
         },
         "name": "blue_wr_advantage",
         "offsetgroup": "blue_wr_advantage",
         "orientation": "v",
         "showlegend": true,
         "textposition": "auto",
         "type": "bar",
         "x": [
          "15-30 Minutes",
          "31-45 Minutes",
          "45+ Minutes"
         ],
         "xaxis": "x",
         "y": [
          10.489999999999995,
          4.340000000000003,
          0.7199999999999989
         ],
         "yaxis": "y"
        }
       ],
       "layout": {
        "annotations": [
         {
          "font": {
           "color": "white",
           "size": 12
          },
          "showarrow": false,
          "text": "10.49% Higher Winrate",
          "x": "15-30 Minutes",
          "xanchor": "center",
          "y": 10.489999999999995,
          "yanchor": "bottom"
         },
         {
          "font": {
           "color": "white",
           "size": 12
          },
          "showarrow": false,
          "text": "4.34% Higher Winrate",
          "x": "31-45 Minutes",
          "xanchor": "center",
          "y": 4.340000000000003,
          "yanchor": "bottom"
         },
         {
          "font": {
           "color": "white",
           "size": 12
          },
          "showarrow": false,
          "text": "0.72% Higher Winrate",
          "x": "45+ Minutes",
          "xanchor": "center",
          "y": 0.7199999999999989,
          "yanchor": "bottom"
         }
        ],
        "barmode": "relative",
        "hovermode": "x",
        "legend": {
         "title": {
          "text": "variable"
         },
         "tracegroupgap": 0
        },
        "showlegend": false,
        "template": {
         "data": {
          "bar": [
           {
            "error_x": {
             "color": "#f2f5fa"
            },
            "error_y": {
             "color": "#f2f5fa"
            },
            "marker": {
             "line": {
              "color": "rgb(17,17,17)",
              "width": 0.5
             },
             "pattern": {
              "fillmode": "overlay",
              "size": 10,
              "solidity": 0.2
             }
            },
            "type": "bar"
           }
          ],
          "barpolar": [
           {
            "marker": {
             "line": {
              "color": "rgb(17,17,17)",
              "width": 0.5
             },
             "pattern": {
              "fillmode": "overlay",
              "size": 10,
              "solidity": 0.2
             }
            },
            "type": "barpolar"
           }
          ],
          "carpet": [
           {
            "aaxis": {
             "endlinecolor": "#A2B1C6",
             "gridcolor": "#506784",
             "linecolor": "#506784",
             "minorgridcolor": "#506784",
             "startlinecolor": "#A2B1C6"
            },
            "baxis": {
             "endlinecolor": "#A2B1C6",
             "gridcolor": "#506784",
             "linecolor": "#506784",
             "minorgridcolor": "#506784",
             "startlinecolor": "#A2B1C6"
            },
            "type": "carpet"
           }
          ],
          "choropleth": [
           {
            "colorbar": {
             "outlinewidth": 0,
             "ticks": ""
            },
            "type": "choropleth"
           }
          ],
          "contour": [
           {
            "colorbar": {
             "outlinewidth": 0,
             "ticks": ""
            },
            "colorscale": [
             [
              0,
              "#0d0887"
             ],
             [
              0.1111111111111111,
              "#46039f"
             ],
             [
              0.2222222222222222,
              "#7201a8"
             ],
             [
              0.3333333333333333,
              "#9c179e"
             ],
             [
              0.4444444444444444,
              "#bd3786"
             ],
             [
              0.5555555555555556,
              "#d8576b"
             ],
             [
              0.6666666666666666,
              "#ed7953"
             ],
             [
              0.7777777777777778,
              "#fb9f3a"
             ],
             [
              0.8888888888888888,
              "#fdca26"
             ],
             [
              1,
              "#f0f921"
             ]
            ],
            "type": "contour"
           }
          ],
          "contourcarpet": [
           {
            "colorbar": {
             "outlinewidth": 0,
             "ticks": ""
            },
            "type": "contourcarpet"
           }
          ],
          "heatmap": [
           {
            "colorbar": {
             "outlinewidth": 0,
             "ticks": ""
            },
            "colorscale": [
             [
              0,
              "#0d0887"
             ],
             [
              0.1111111111111111,
              "#46039f"
             ],
             [
              0.2222222222222222,
              "#7201a8"
             ],
             [
              0.3333333333333333,
              "#9c179e"
             ],
             [
              0.4444444444444444,
              "#bd3786"
             ],
             [
              0.5555555555555556,
              "#d8576b"
             ],
             [
              0.6666666666666666,
              "#ed7953"
             ],
             [
              0.7777777777777778,
              "#fb9f3a"
             ],
             [
              0.8888888888888888,
              "#fdca26"
             ],
             [
              1,
              "#f0f921"
             ]
            ],
            "type": "heatmap"
           }
          ],
          "heatmapgl": [
           {
            "colorbar": {
             "outlinewidth": 0,
             "ticks": ""
            },
            "colorscale": [
             [
              0,
              "#0d0887"
             ],
             [
              0.1111111111111111,
              "#46039f"
             ],
             [
              0.2222222222222222,
              "#7201a8"
             ],
             [
              0.3333333333333333,
              "#9c179e"
             ],
             [
              0.4444444444444444,
              "#bd3786"
             ],
             [
              0.5555555555555556,
              "#d8576b"
             ],
             [
              0.6666666666666666,
              "#ed7953"
             ],
             [
              0.7777777777777778,
              "#fb9f3a"
             ],
             [
              0.8888888888888888,
              "#fdca26"
             ],
             [
              1,
              "#f0f921"
             ]
            ],
            "type": "heatmapgl"
           }
          ],
          "histogram": [
           {
            "marker": {
             "pattern": {
              "fillmode": "overlay",
              "size": 10,
              "solidity": 0.2
             }
            },
            "type": "histogram"
           }
          ],
          "histogram2d": [
           {
            "colorbar": {
             "outlinewidth": 0,
             "ticks": ""
            },
            "colorscale": [
             [
              0,
              "#0d0887"
             ],
             [
              0.1111111111111111,
              "#46039f"
             ],
             [
              0.2222222222222222,
              "#7201a8"
             ],
             [
              0.3333333333333333,
              "#9c179e"
             ],
             [
              0.4444444444444444,
              "#bd3786"
             ],
             [
              0.5555555555555556,
              "#d8576b"
             ],
             [
              0.6666666666666666,
              "#ed7953"
             ],
             [
              0.7777777777777778,
              "#fb9f3a"
             ],
             [
              0.8888888888888888,
              "#fdca26"
             ],
             [
              1,
              "#f0f921"
             ]
            ],
            "type": "histogram2d"
           }
          ],
          "histogram2dcontour": [
           {
            "colorbar": {
             "outlinewidth": 0,
             "ticks": ""
            },
            "colorscale": [
             [
              0,
              "#0d0887"
             ],
             [
              0.1111111111111111,
              "#46039f"
             ],
             [
              0.2222222222222222,
              "#7201a8"
             ],
             [
              0.3333333333333333,
              "#9c179e"
             ],
             [
              0.4444444444444444,
              "#bd3786"
             ],
             [
              0.5555555555555556,
              "#d8576b"
             ],
             [
              0.6666666666666666,
              "#ed7953"
             ],
             [
              0.7777777777777778,
              "#fb9f3a"
             ],
             [
              0.8888888888888888,
              "#fdca26"
             ],
             [
              1,
              "#f0f921"
             ]
            ],
            "type": "histogram2dcontour"
           }
          ],
          "mesh3d": [
           {
            "colorbar": {
             "outlinewidth": 0,
             "ticks": ""
            },
            "type": "mesh3d"
           }
          ],
          "parcoords": [
           {
            "line": {
             "colorbar": {
              "outlinewidth": 0,
              "ticks": ""
             }
            },
            "type": "parcoords"
           }
          ],
          "pie": [
           {
            "automargin": true,
            "type": "pie"
           }
          ],
          "scatter": [
           {
            "marker": {
             "line": {
              "color": "#283442"
             }
            },
            "type": "scatter"
           }
          ],
          "scatter3d": [
           {
            "line": {
             "colorbar": {
              "outlinewidth": 0,
              "ticks": ""
             }
            },
            "marker": {
             "colorbar": {
              "outlinewidth": 0,
              "ticks": ""
             }
            },
            "type": "scatter3d"
           }
          ],
          "scattercarpet": [
           {
            "marker": {
             "colorbar": {
              "outlinewidth": 0,
              "ticks": ""
             }
            },
            "type": "scattercarpet"
           }
          ],
          "scattergeo": [
           {
            "marker": {
             "colorbar": {
              "outlinewidth": 0,
              "ticks": ""
             }
            },
            "type": "scattergeo"
           }
          ],
          "scattergl": [
           {
            "marker": {
             "line": {
              "color": "#283442"
             }
            },
            "type": "scattergl"
           }
          ],
          "scattermapbox": [
           {
            "marker": {
             "colorbar": {
              "outlinewidth": 0,
              "ticks": ""
             }
            },
            "type": "scattermapbox"
           }
          ],
          "scatterpolar": [
           {
            "marker": {
             "colorbar": {
              "outlinewidth": 0,
              "ticks": ""
             }
            },
            "type": "scatterpolar"
           }
          ],
          "scatterpolargl": [
           {
            "marker": {
             "colorbar": {
              "outlinewidth": 0,
              "ticks": ""
             }
            },
            "type": "scatterpolargl"
           }
          ],
          "scatterternary": [
           {
            "marker": {
             "colorbar": {
              "outlinewidth": 0,
              "ticks": ""
             }
            },
            "type": "scatterternary"
           }
          ],
          "surface": [
           {
            "colorbar": {
             "outlinewidth": 0,
             "ticks": ""
            },
            "colorscale": [
             [
              0,
              "#0d0887"
             ],
             [
              0.1111111111111111,
              "#46039f"
             ],
             [
              0.2222222222222222,
              "#7201a8"
             ],
             [
              0.3333333333333333,
              "#9c179e"
             ],
             [
              0.4444444444444444,
              "#bd3786"
             ],
             [
              0.5555555555555556,
              "#d8576b"
             ],
             [
              0.6666666666666666,
              "#ed7953"
             ],
             [
              0.7777777777777778,
              "#fb9f3a"
             ],
             [
              0.8888888888888888,
              "#fdca26"
             ],
             [
              1,
              "#f0f921"
             ]
            ],
            "type": "surface"
           }
          ],
          "table": [
           {
            "cells": {
             "fill": {
              "color": "#506784"
             },
             "line": {
              "color": "rgb(17,17,17)"
             }
            },
            "header": {
             "fill": {
              "color": "#2a3f5f"
             },
             "line": {
              "color": "rgb(17,17,17)"
             }
            },
            "type": "table"
           }
          ]
         },
         "layout": {
          "annotationdefaults": {
           "arrowcolor": "#f2f5fa",
           "arrowhead": 0,
           "arrowwidth": 1
          },
          "autotypenumbers": "strict",
          "coloraxis": {
           "colorbar": {
            "outlinewidth": 0,
            "ticks": ""
           }
          },
          "colorscale": {
           "diverging": [
            [
             0,
             "#8e0152"
            ],
            [
             0.1,
             "#c51b7d"
            ],
            [
             0.2,
             "#de77ae"
            ],
            [
             0.3,
             "#f1b6da"
            ],
            [
             0.4,
             "#fde0ef"
            ],
            [
             0.5,
             "#f7f7f7"
            ],
            [
             0.6,
             "#e6f5d0"
            ],
            [
             0.7,
             "#b8e186"
            ],
            [
             0.8,
             "#7fbc41"
            ],
            [
             0.9,
             "#4d9221"
            ],
            [
             1,
             "#276419"
            ]
           ],
           "sequential": [
            [
             0,
             "#0d0887"
            ],
            [
             0.1111111111111111,
             "#46039f"
            ],
            [
             0.2222222222222222,
             "#7201a8"
            ],
            [
             0.3333333333333333,
             "#9c179e"
            ],
            [
             0.4444444444444444,
             "#bd3786"
            ],
            [
             0.5555555555555556,
             "#d8576b"
            ],
            [
             0.6666666666666666,
             "#ed7953"
            ],
            [
             0.7777777777777778,
             "#fb9f3a"
            ],
            [
             0.8888888888888888,
             "#fdca26"
            ],
            [
             1,
             "#f0f921"
            ]
           ],
           "sequentialminus": [
            [
             0,
             "#0d0887"
            ],
            [
             0.1111111111111111,
             "#46039f"
            ],
            [
             0.2222222222222222,
             "#7201a8"
            ],
            [
             0.3333333333333333,
             "#9c179e"
            ],
            [
             0.4444444444444444,
             "#bd3786"
            ],
            [
             0.5555555555555556,
             "#d8576b"
            ],
            [
             0.6666666666666666,
             "#ed7953"
            ],
            [
             0.7777777777777778,
             "#fb9f3a"
            ],
            [
             0.8888888888888888,
             "#fdca26"
            ],
            [
             1,
             "#f0f921"
            ]
           ]
          },
          "colorway": [
           "#636efa",
           "#EF553B",
           "#00cc96",
           "#ab63fa",
           "#FFA15A",
           "#19d3f3",
           "#FF6692",
           "#B6E880",
           "#FF97FF",
           "#FECB52"
          ],
          "font": {
           "color": "#f2f5fa"
          },
          "geo": {
           "bgcolor": "rgb(17,17,17)",
           "lakecolor": "rgb(17,17,17)",
           "landcolor": "rgb(17,17,17)",
           "showlakes": true,
           "showland": true,
           "subunitcolor": "#506784"
          },
          "hoverlabel": {
           "align": "left"
          },
          "hovermode": "closest",
          "mapbox": {
           "style": "dark"
          },
          "paper_bgcolor": "rgb(17,17,17)",
          "plot_bgcolor": "rgb(17,17,17)",
          "polar": {
           "angularaxis": {
            "gridcolor": "#506784",
            "linecolor": "#506784",
            "ticks": ""
           },
           "bgcolor": "rgb(17,17,17)",
           "radialaxis": {
            "gridcolor": "#506784",
            "linecolor": "#506784",
            "ticks": ""
           }
          },
          "scene": {
           "xaxis": {
            "backgroundcolor": "rgb(17,17,17)",
            "gridcolor": "#506784",
            "gridwidth": 2,
            "linecolor": "#506784",
            "showbackground": true,
            "ticks": "",
            "zerolinecolor": "#C8D4E3"
           },
           "yaxis": {
            "backgroundcolor": "rgb(17,17,17)",
            "gridcolor": "#506784",
            "gridwidth": 2,
            "linecolor": "#506784",
            "showbackground": true,
            "ticks": "",
            "zerolinecolor": "#C8D4E3"
           },
           "zaxis": {
            "backgroundcolor": "rgb(17,17,17)",
            "gridcolor": "#506784",
            "gridwidth": 2,
            "linecolor": "#506784",
            "showbackground": true,
            "ticks": "",
            "zerolinecolor": "#C8D4E3"
           }
          },
          "shapedefaults": {
           "line": {
            "color": "#f2f5fa"
           }
          },
          "sliderdefaults": {
           "bgcolor": "#C8D4E3",
           "bordercolor": "rgb(17,17,17)",
           "borderwidth": 1,
           "tickwidth": 0
          },
          "ternary": {
           "aaxis": {
            "gridcolor": "#506784",
            "linecolor": "#506784",
            "ticks": ""
           },
           "baxis": {
            "gridcolor": "#506784",
            "linecolor": "#506784",
            "ticks": ""
           },
           "bgcolor": "rgb(17,17,17)",
           "caxis": {
            "gridcolor": "#506784",
            "linecolor": "#506784",
            "ticks": ""
           }
          },
          "title": {
           "x": 0.05
          },
          "updatemenudefaults": {
           "bgcolor": "#506784",
           "borderwidth": 0
          },
          "xaxis": {
           "automargin": true,
           "gridcolor": "#283442",
           "linecolor": "#506784",
           "ticks": "",
           "title": {
            "standoff": 15
           },
           "zerolinecolor": "#283442",
           "zerolinewidth": 2
          },
          "yaxis": {
           "automargin": true,
           "gridcolor": "#283442",
           "linecolor": "#506784",
           "ticks": "",
           "title": {
            "standoff": 15
           },
           "zerolinecolor": "#283442",
           "zerolinewidth": 2
          }
         }
        },
        "title": {
         "text": "Blue Side Winrate Advantage by Game Length"
        },
        "xaxis": {
         "anchor": "y",
         "domain": [
          0,
          1
         ],
         "title": {
          "text": "Game Length"
         },
         "type": "category"
        },
        "yaxis": {
         "anchor": "x",
         "domain": [
          0,
          1
         ],
         "title": {
          "text": "Blue Side Winrate % Difference"
         }
        }
       }
      }
     },
     "metadata": {},
     "output_type": "display_data"
    },
    {
     "name": "stdout",
     "output_type": "stream",
     "text": [
      "gamelength_bins\n",
      "15-30 Minutes    10.49\n",
      "31-45 Minutes     4.34\n",
      "45+ Minutes       0.72\n",
      "Name: blue_wr_advantage, dtype: float64\n"
     ]
    }
   ],
   "source": [
    "# Split the gamelength column into 3 bins\n",
    "gamelength_bins = pd.cut(df_teams['gamelength'], bins=[900, 1800, 2700, np.inf], labels=['15-30 Minutes', '31-45 Minutes', '45+ Minutes'])\n",
    "\n",
    "wr_length = (df_teams.assign(gamelength_bins=gamelength_bins)\n",
    " .groupby([\"gamelength_bins\", 'side'])\n",
    " .agg({'result': lambda x: np.round(x.mean()*100,2)})\n",
    " .unstack()\n",
    " .assign(blue_wr_advantage = lambda x: (x['result']['Blue'] - x['result']['Red']))\n",
    " ['blue_wr_advantage']\n",
    " )\n",
    "\n",
    "customdata = np.stack([gamelength_bins.value_counts(), gamelength_bins.value_counts(normalize=True)*100], axis=-1)\n",
    "fig = px.bar(wr_length, title='Blue Side Winrate Advantage by Game Length', template='plotly_dark')\n",
    "# Change it to categorical\n",
    "fig.update_xaxes(type='category', title='Game Length')\n",
    "fig.update_yaxes(title='Blue Side Winrate % Difference')\n",
    "fig.update_layout(hovermode='x')\n",
    "# Update the hover label text to show the year, and the winrate advantage\n",
    "fig.update_traces(customdata=customdata, \n",
    "                  hovertemplate='Length: %{x}<br>Blue Winrate Advantage: %{y}%<br>%{customdata[0]:,} Games<br>(%{customdata[1]:.2f}% of all Games)')\n",
    "# Add a text above each bar with the number of games in that bin, as stored in customdata\n",
    "fig.update_layout(showlegend=False, annotations=[\n",
    "    dict(\n",
    "        x=bin,\n",
    "        y=advantage,\n",
    "        text=f\"{advantage:.2f}% Higher Winrate\",\n",
    "        showarrow=False,\n",
    "        font=dict(size=12, color='white'),\n",
    "        xanchor='center',\n",
    "        yanchor='bottom'\n",
    "    )\n",
    "    for bin, advantage, games in zip(wr_length.index, wr_length.values, customdata[:, 0])\n",
    "])\n",
    "fig.write_html('assets/bivariate.html', include_plotlyjs='cdn')\n",
    "fig.show()\n",
    "print(wr_length)\n",
    "wr_length = []"
   ]
  },
  {
   "cell_type": "code",
   "execution_count": 120,
   "metadata": {},
   "outputs": [
    {
     "data": {
      "text/plain": [
       "10        1924\n",
       "11        1924\n",
       "22        2474\n",
       "23        2474\n",
       "34        2629\n",
       "          ... \n",
       "122615    2571\n",
       "122626    1773\n",
       "122627    1773\n",
       "122638    1550\n",
       "122639    1550\n",
       "Name: gamelength, Length: 120544, dtype: int64"
      ]
     },
     "execution_count": 120,
     "metadata": {},
     "output_type": "execute_result"
    }
   ],
   "source": [
    "np.minimum(df_teams['gamelength'], np.ones_like(df_teams['gamelength']) * 2700)"
   ]
  },
  {
   "cell_type": "code",
   "execution_count": 122,
   "metadata": {},
   "outputs": [],
   "source": [
    "gamelength_capped = np.minimum(df_teams['gamelength'], np.ones_like(df_teams['gamelength']) * 2700)"
   ]
  },
  {
   "cell_type": "code",
   "execution_count": 140,
   "metadata": {},
   "outputs": [
    {
     "data": {
      "text/plain": [
       "Index(['gameid', 'league', 'year', 'date', 'patch', 'side', 'position',\n",
       "       'playername', 'teamname', 'champion', 'gamelength', 'result', 'dragons',\n",
       "       'elders', 'opp_elders', 'barons', 'opp_barons', 'Win?'],\n",
       "      dtype='object')"
      ]
     },
     "execution_count": 140,
     "metadata": {},
     "output_type": "execute_result"
    }
   ],
   "source": [
    "df_players.columns"
   ]
  },
  {
   "cell_type": "code",
   "execution_count": 123,
   "metadata": {},
   "outputs": [
    {
     "data": {
      "text/html": [
       "<div>\n",
       "<style scoped>\n",
       "    .dataframe tbody tr th:only-of-type {\n",
       "        vertical-align: middle;\n",
       "    }\n",
       "\n",
       "    .dataframe tbody tr th {\n",
       "        vertical-align: top;\n",
       "    }\n",
       "\n",
       "    .dataframe thead th {\n",
       "        text-align: right;\n",
       "    }\n",
       "</style>\n",
       "<table border=\"1\" class=\"dataframe\">\n",
       "  <thead>\n",
       "    <tr style=\"text-align: right;\">\n",
       "      <th></th>\n",
       "      <th></th>\n",
       "      <th>result</th>\n",
       "    </tr>\n",
       "    <tr>\n",
       "      <th>minutes</th>\n",
       "      <th>side</th>\n",
       "      <th></th>\n",
       "    </tr>\n",
       "  </thead>\n",
       "  <tbody>\n",
       "    <tr>\n",
       "      <th rowspan=\"2\" valign=\"top\">13</th>\n",
       "      <th>Blue</th>\n",
       "      <td>1.000000</td>\n",
       "    </tr>\n",
       "    <tr>\n",
       "      <th>Red</th>\n",
       "      <td>0.000000</td>\n",
       "    </tr>\n",
       "    <tr>\n",
       "      <th rowspan=\"2\" valign=\"top\">15</th>\n",
       "      <th>Blue</th>\n",
       "      <td>0.588235</td>\n",
       "    </tr>\n",
       "    <tr>\n",
       "      <th>Red</th>\n",
       "      <td>0.352941</td>\n",
       "    </tr>\n",
       "    <tr>\n",
       "      <th>16</th>\n",
       "      <th>Blue</th>\n",
       "      <td>0.636364</td>\n",
       "    </tr>\n",
       "    <tr>\n",
       "      <th>...</th>\n",
       "      <th>...</th>\n",
       "      <td>...</td>\n",
       "    </tr>\n",
       "    <tr>\n",
       "      <th>43</th>\n",
       "      <th>Red</th>\n",
       "      <td>0.495674</td>\n",
       "    </tr>\n",
       "    <tr>\n",
       "      <th rowspan=\"2\" valign=\"top\">44</th>\n",
       "      <th>Blue</th>\n",
       "      <td>0.503682</td>\n",
       "    </tr>\n",
       "    <tr>\n",
       "      <th>Red</th>\n",
       "      <td>0.496318</td>\n",
       "    </tr>\n",
       "    <tr>\n",
       "      <th rowspan=\"2\" valign=\"top\">45</th>\n",
       "      <th>Blue</th>\n",
       "      <td>0.503434</td>\n",
       "    </tr>\n",
       "    <tr>\n",
       "      <th>Red</th>\n",
       "      <td>0.496566</td>\n",
       "    </tr>\n",
       "  </tbody>\n",
       "</table>\n",
       "<p>64 rows × 1 columns</p>\n",
       "</div>"
      ],
      "text/plain": [
       "                result\n",
       "minutes side          \n",
       "13      Blue  1.000000\n",
       "        Red   0.000000\n",
       "15      Blue  0.588235\n",
       "        Red   0.352941\n",
       "16      Blue  0.636364\n",
       "...                ...\n",
       "43      Red   0.495674\n",
       "44      Blue  0.503682\n",
       "        Red   0.496318\n",
       "45      Blue  0.503434\n",
       "        Red   0.496566\n",
       "\n",
       "[64 rows x 1 columns]"
      ]
     },
     "execution_count": 123,
     "metadata": {},
     "output_type": "execute_result"
    }
   ],
   "source": [
    "(df_teams\n",
    " .assign(**{'minutes': gamelength_capped // 60})\n",
    " .groupby(['minutes', 'side'])[['result']].mean()\n",
    ")"
   ]
  },
  {
   "cell_type": "code",
   "execution_count": 54,
   "metadata": {},
   "outputs": [
    {
     "data": {
      "text/html": [
       "<div>\n",
       "<style scoped>\n",
       "    .dataframe tbody tr th:only-of-type {\n",
       "        vertical-align: middle;\n",
       "    }\n",
       "\n",
       "    .dataframe tbody tr th {\n",
       "        vertical-align: top;\n",
       "    }\n",
       "\n",
       "    .dataframe thead tr th {\n",
       "        text-align: left;\n",
       "    }\n",
       "\n",
       "    .dataframe thead tr:last-of-type th {\n",
       "        text-align: right;\n",
       "    }\n",
       "</style>\n",
       "<table border=\"1\" class=\"dataframe\">\n",
       "  <thead>\n",
       "    <tr>\n",
       "      <th></th>\n",
       "      <th colspan=\"2\" halign=\"left\">result</th>\n",
       "    </tr>\n",
       "    <tr>\n",
       "      <th>side</th>\n",
       "      <th>Blue</th>\n",
       "      <th>Red</th>\n",
       "    </tr>\n",
       "    <tr>\n",
       "      <th>gamelength_bins</th>\n",
       "      <th></th>\n",
       "      <th></th>\n",
       "    </tr>\n",
       "  </thead>\n",
       "  <tbody>\n",
       "    <tr>\n",
       "      <th>15-30 Minutes</th>\n",
       "      <td>0.552209</td>\n",
       "      <td>0.447518</td>\n",
       "    </tr>\n",
       "    <tr>\n",
       "      <th>31-45 Minutes</th>\n",
       "      <td>0.521526</td>\n",
       "      <td>0.478474</td>\n",
       "    </tr>\n",
       "    <tr>\n",
       "      <th>45+ Minutes</th>\n",
       "      <td>0.501235</td>\n",
       "      <td>0.498765</td>\n",
       "    </tr>\n",
       "  </tbody>\n",
       "</table>\n",
       "</div>"
      ],
      "text/plain": [
       "                   result          \n",
       "side                 Blue       Red\n",
       "gamelength_bins                    \n",
       "15-30 Minutes    0.552209  0.447518\n",
       "31-45 Minutes    0.521526  0.478474\n",
       "45+ Minutes      0.501235  0.498765"
      ]
     },
     "execution_count": 54,
     "metadata": {},
     "output_type": "execute_result"
    }
   ],
   "source": [
    "df_obj_by_gl = (df_teams[['side', 'result', 'patch', 'elders', 'barons', 'opp_elders', 'opp_barons']]\n",
    " .assign(gamelength_bins=gamelength_bins)\n",
    ")\n",
    "\n",
    "df_obj_by_gl['elder advantage'] = df_obj_by_gl['elders'] - df_obj_by_gl['opp_elders']\n",
    "df_obj_by_gl['baron advantage'] = df_obj_by_gl['barons'] - df_obj_by_gl['opp_barons']\n",
    "\n",
    "baron_bins = pd.cut(df_obj_by_gl['baron advantage'], bins=[-np.inf, -0.01, 0.99, 1.99, np.inf], labels=['Less Barons', 'Same Barons', '1 More Baron', '2+ More Barons'], right=True)\n",
    "elder_bins = pd.cut(df_obj_by_gl['elder advantage'], bins=[-np.inf, -0.01, 0.99, 1.99, np.inf], labels=['Less Elders', 'Same Elders', '1 More Elder', '2+ More Elders'], right=True)\n",
    "df_obj_by_gl['baron_bins'] = baron_bins\n",
    "df_obj_by_gl['elder_bins'] = elder_bins\n",
    "df_obj_by_gl = df_obj_by_gl.dropna(axis=0, how='any')\n",
    "df_obj_by_gl = df_obj_by_gl[['side', 'result', 'patch', 'gamelength_bins', 'baron advantage','baron_bins', 'elder advantage', 'elder_bins']]\n",
    "\n",
    "\n",
    "(df_obj_by_gl\n",
    " .groupby(['gamelength_bins', 'side'])\n",
    " [['result']].mean().unstack()\n",
    ")"
   ]
  },
  {
   "cell_type": "code",
   "execution_count": 55,
   "metadata": {},
   "outputs": [
    {
     "data": {
      "text/html": [
       "<div>\n",
       "<style scoped>\n",
       "    .dataframe tbody tr th:only-of-type {\n",
       "        vertical-align: middle;\n",
       "    }\n",
       "\n",
       "    .dataframe tbody tr th {\n",
       "        vertical-align: top;\n",
       "    }\n",
       "\n",
       "    .dataframe thead th {\n",
       "        text-align: right;\n",
       "    }\n",
       "</style>\n",
       "<table border=\"1\" class=\"dataframe\">\n",
       "  <thead>\n",
       "    <tr style=\"text-align: right;\">\n",
       "      <th></th>\n",
       "      <th>side</th>\n",
       "      <th>result</th>\n",
       "      <th>patch</th>\n",
       "      <th>gamelength_bins</th>\n",
       "      <th>baron advantage</th>\n",
       "      <th>baron_bins</th>\n",
       "      <th>elder advantage</th>\n",
       "      <th>elder_bins</th>\n",
       "    </tr>\n",
       "  </thead>\n",
       "  <tbody>\n",
       "    <tr>\n",
       "      <th>1534</th>\n",
       "      <td>Blue</td>\n",
       "      <td>1</td>\n",
       "      <td>8.01</td>\n",
       "      <td>45+ Minutes</td>\n",
       "      <td>-3.0</td>\n",
       "      <td>Less Barons</td>\n",
       "      <td>-4.0</td>\n",
       "      <td>Less Elders</td>\n",
       "    </tr>\n",
       "    <tr>\n",
       "      <th>39191</th>\n",
       "      <td>Red</td>\n",
       "      <td>1</td>\n",
       "      <td>6.13</td>\n",
       "      <td>45+ Minutes</td>\n",
       "      <td>3.0</td>\n",
       "      <td>2+ More Barons</td>\n",
       "      <td>-4.0</td>\n",
       "      <td>Less Elders</td>\n",
       "    </tr>\n",
       "    <tr>\n",
       "      <th>7078</th>\n",
       "      <td>Blue</td>\n",
       "      <td>0</td>\n",
       "      <td>8.02</td>\n",
       "      <td>45+ Minutes</td>\n",
       "      <td>-4.0</td>\n",
       "      <td>Less Barons</td>\n",
       "      <td>-4.0</td>\n",
       "      <td>Less Elders</td>\n",
       "    </tr>\n",
       "    <tr>\n",
       "      <th>16918</th>\n",
       "      <td>Blue</td>\n",
       "      <td>0</td>\n",
       "      <td>7.04</td>\n",
       "      <td>45+ Minutes</td>\n",
       "      <td>-5.0</td>\n",
       "      <td>Less Barons</td>\n",
       "      <td>-4.0</td>\n",
       "      <td>Less Elders</td>\n",
       "    </tr>\n",
       "    <tr>\n",
       "      <th>12959</th>\n",
       "      <td>Red</td>\n",
       "      <td>0</td>\n",
       "      <td>7.03</td>\n",
       "      <td>45+ Minutes</td>\n",
       "      <td>-1.0</td>\n",
       "      <td>Less Barons</td>\n",
       "      <td>-3.0</td>\n",
       "      <td>Less Elders</td>\n",
       "    </tr>\n",
       "    <tr>\n",
       "      <th>...</th>\n",
       "      <td>...</td>\n",
       "      <td>...</td>\n",
       "      <td>...</td>\n",
       "      <td>...</td>\n",
       "      <td>...</td>\n",
       "      <td>...</td>\n",
       "      <td>...</td>\n",
       "      <td>...</td>\n",
       "    </tr>\n",
       "    <tr>\n",
       "      <th>80686</th>\n",
       "      <td>Blue</td>\n",
       "      <td>1</td>\n",
       "      <td>9.15</td>\n",
       "      <td>45+ Minutes</td>\n",
       "      <td>1.0</td>\n",
       "      <td>1 More Baron</td>\n",
       "      <td>3.0</td>\n",
       "      <td>2+ More Elders</td>\n",
       "    </tr>\n",
       "    <tr>\n",
       "      <th>16919</th>\n",
       "      <td>Red</td>\n",
       "      <td>1</td>\n",
       "      <td>7.04</td>\n",
       "      <td>45+ Minutes</td>\n",
       "      <td>5.0</td>\n",
       "      <td>2+ More Barons</td>\n",
       "      <td>4.0</td>\n",
       "      <td>2+ More Elders</td>\n",
       "    </tr>\n",
       "    <tr>\n",
       "      <th>1535</th>\n",
       "      <td>Red</td>\n",
       "      <td>0</td>\n",
       "      <td>8.01</td>\n",
       "      <td>45+ Minutes</td>\n",
       "      <td>3.0</td>\n",
       "      <td>2+ More Barons</td>\n",
       "      <td>4.0</td>\n",
       "      <td>2+ More Elders</td>\n",
       "    </tr>\n",
       "    <tr>\n",
       "      <th>7079</th>\n",
       "      <td>Red</td>\n",
       "      <td>1</td>\n",
       "      <td>8.02</td>\n",
       "      <td>45+ Minutes</td>\n",
       "      <td>4.0</td>\n",
       "      <td>2+ More Barons</td>\n",
       "      <td>4.0</td>\n",
       "      <td>2+ More Elders</td>\n",
       "    </tr>\n",
       "    <tr>\n",
       "      <th>39190</th>\n",
       "      <td>Blue</td>\n",
       "      <td>0</td>\n",
       "      <td>6.13</td>\n",
       "      <td>45+ Minutes</td>\n",
       "      <td>-3.0</td>\n",
       "      <td>Less Barons</td>\n",
       "      <td>4.0</td>\n",
       "      <td>2+ More Elders</td>\n",
       "    </tr>\n",
       "  </tbody>\n",
       "</table>\n",
       "<p>119960 rows × 8 columns</p>\n",
       "</div>"
      ],
      "text/plain": [
       "       side  result  patch gamelength_bins  baron advantage      baron_bins  \\\n",
       "1534   Blue       1   8.01     45+ Minutes             -3.0     Less Barons   \n",
       "39191   Red       1   6.13     45+ Minutes              3.0  2+ More Barons   \n",
       "7078   Blue       0   8.02     45+ Minutes             -4.0     Less Barons   \n",
       "16918  Blue       0   7.04     45+ Minutes             -5.0     Less Barons   \n",
       "12959   Red       0   7.03     45+ Minutes             -1.0     Less Barons   \n",
       "...     ...     ...    ...             ...              ...             ...   \n",
       "80686  Blue       1   9.15     45+ Minutes              1.0    1 More Baron   \n",
       "16919   Red       1   7.04     45+ Minutes              5.0  2+ More Barons   \n",
       "1535    Red       0   8.01     45+ Minutes              3.0  2+ More Barons   \n",
       "7079    Red       1   8.02     45+ Minutes              4.0  2+ More Barons   \n",
       "39190  Blue       0   6.13     45+ Minutes             -3.0     Less Barons   \n",
       "\n",
       "       elder advantage      elder_bins  \n",
       "1534              -4.0     Less Elders  \n",
       "39191             -4.0     Less Elders  \n",
       "7078              -4.0     Less Elders  \n",
       "16918             -4.0     Less Elders  \n",
       "12959             -3.0     Less Elders  \n",
       "...                ...             ...  \n",
       "80686              3.0  2+ More Elders  \n",
       "16919              4.0  2+ More Elders  \n",
       "1535               4.0  2+ More Elders  \n",
       "7079               4.0  2+ More Elders  \n",
       "39190              4.0  2+ More Elders  \n",
       "\n",
       "[119960 rows x 8 columns]"
      ]
     },
     "execution_count": 55,
     "metadata": {},
     "output_type": "execute_result"
    }
   ],
   "source": [
    "df_obj_by_gl.sort_values('elder advantage')"
   ]
  },
  {
   "cell_type": "code",
   "execution_count": 56,
   "metadata": {},
   "outputs": [
    {
     "data": {
      "text/plain": [
       "gamelength_bins\n",
       "31-45 Minutes    70332\n",
       "15-30 Minutes    43958\n",
       "45+ Minutes       5670\n",
       "Name: count, dtype: int64"
      ]
     },
     "execution_count": 56,
     "metadata": {},
     "output_type": "execute_result"
    }
   ],
   "source": [
    "df_obj_by_gl['gamelength_bins'].value_counts()"
   ]
  },
  {
   "cell_type": "code",
   "execution_count": 57,
   "metadata": {},
   "outputs": [
    {
     "data": {
      "text/html": [
       "<div>\n",
       "<style scoped>\n",
       "    .dataframe tbody tr th:only-of-type {\n",
       "        vertical-align: middle;\n",
       "    }\n",
       "\n",
       "    .dataframe tbody tr th {\n",
       "        vertical-align: top;\n",
       "    }\n",
       "\n",
       "    .dataframe thead th {\n",
       "        text-align: right;\n",
       "    }\n",
       "</style>\n",
       "<table border=\"1\" class=\"dataframe\">\n",
       "  <thead>\n",
       "    <tr style=\"text-align: right;\">\n",
       "      <th></th>\n",
       "      <th>Winner baron advantage</th>\n",
       "      <th>Winner elder advantage</th>\n",
       "    </tr>\n",
       "    <tr>\n",
       "      <th>gamelength_bins</th>\n",
       "      <th></th>\n",
       "      <th></th>\n",
       "    </tr>\n",
       "  </thead>\n",
       "  <tbody>\n",
       "    <tr>\n",
       "      <th>15-30 Minutes</th>\n",
       "      <td>0.885268</td>\n",
       "      <td>0.002594</td>\n",
       "    </tr>\n",
       "    <tr>\n",
       "      <th>31-45 Minutes</th>\n",
       "      <td>0.974691</td>\n",
       "      <td>0.103822</td>\n",
       "    </tr>\n",
       "    <tr>\n",
       "      <th>45+ Minutes</th>\n",
       "      <td>0.672663</td>\n",
       "      <td>0.264550</td>\n",
       "    </tr>\n",
       "  </tbody>\n",
       "</table>\n",
       "</div>"
      ],
      "text/plain": [
       "                 Winner baron advantage  Winner elder advantage\n",
       "gamelength_bins                                                \n",
       "15-30 Minutes                  0.885268                0.002594\n",
       "31-45 Minutes                  0.974691                0.103822\n",
       "45+ Minutes                    0.672663                0.264550"
      ]
     },
     "execution_count": 57,
     "metadata": {},
     "output_type": "execute_result"
    }
   ],
   "source": [
    "(df_obj_by_gl.query('result == 1')\n",
    " .groupby(['gamelength_bins'])\n",
    " [['baron advantage', 'elder advantage']].mean()\n",
    " .rename(columns={'baron advantage': 'Winner baron advantage', 'elder advantage': 'Winner elder advantage'})\n",
    ")"
   ]
  },
  {
   "cell_type": "code",
   "execution_count": 58,
   "metadata": {},
   "outputs": [
    {
     "data": {
      "text/html": [
       "<div>\n",
       "<style scoped>\n",
       "    .dataframe tbody tr th:only-of-type {\n",
       "        vertical-align: middle;\n",
       "    }\n",
       "\n",
       "    .dataframe tbody tr th {\n",
       "        vertical-align: top;\n",
       "    }\n",
       "\n",
       "    .dataframe thead tr th {\n",
       "        text-align: left;\n",
       "    }\n",
       "\n",
       "    .dataframe thead tr:last-of-type th {\n",
       "        text-align: right;\n",
       "    }\n",
       "</style>\n",
       "<table border=\"1\" class=\"dataframe\">\n",
       "  <thead>\n",
       "    <tr>\n",
       "      <th></th>\n",
       "      <th colspan=\"2\" halign=\"left\">Winrate</th>\n",
       "    </tr>\n",
       "    <tr>\n",
       "      <th>side</th>\n",
       "      <th>Blue</th>\n",
       "      <th>Red</th>\n",
       "    </tr>\n",
       "    <tr>\n",
       "      <th>baron_bins</th>\n",
       "      <th></th>\n",
       "      <th></th>\n",
       "    </tr>\n",
       "  </thead>\n",
       "  <tbody>\n",
       "    <tr>\n",
       "      <th>Less Barons</th>\n",
       "      <td>9.56</td>\n",
       "      <td>7.18</td>\n",
       "    </tr>\n",
       "    <tr>\n",
       "      <th>Same Barons</th>\n",
       "      <td>57.86</td>\n",
       "      <td>42.09</td>\n",
       "    </tr>\n",
       "    <tr>\n",
       "      <th>1 More Baron</th>\n",
       "      <td>92.81</td>\n",
       "      <td>89.79</td>\n",
       "    </tr>\n",
       "    <tr>\n",
       "      <th>2+ More Barons</th>\n",
       "      <td>92.82</td>\n",
       "      <td>91.95</td>\n",
       "    </tr>\n",
       "  </tbody>\n",
       "</table>\n",
       "</div>"
      ],
      "text/plain": [
       "               Winrate       \n",
       "side              Blue    Red\n",
       "baron_bins                   \n",
       "Less Barons       9.56   7.18\n",
       "Same Barons      57.86  42.09\n",
       "1 More Baron     92.81  89.79\n",
       "2+ More Barons   92.82  91.95"
      ]
     },
     "execution_count": 58,
     "metadata": {},
     "output_type": "execute_result"
    }
   ],
   "source": [
    "(df_obj_by_gl\n",
    " .groupby(['baron_bins', 'side'])\n",
    " [['result']].mean().unstack()\n",
    " .rename(columns={'result': 'Winrate'}) * 100\n",
    ").round(2)"
   ]
  },
  {
   "cell_type": "code",
   "execution_count": 59,
   "metadata": {},
   "outputs": [
    {
     "data": {
      "text/html": [
       "<div>\n",
       "<style scoped>\n",
       "    .dataframe tbody tr th:only-of-type {\n",
       "        vertical-align: middle;\n",
       "    }\n",
       "\n",
       "    .dataframe tbody tr th {\n",
       "        vertical-align: top;\n",
       "    }\n",
       "\n",
       "    .dataframe thead tr th {\n",
       "        text-align: left;\n",
       "    }\n",
       "\n",
       "    .dataframe thead tr:last-of-type th {\n",
       "        text-align: right;\n",
       "    }\n",
       "</style>\n",
       "<table border=\"1\" class=\"dataframe\">\n",
       "  <thead>\n",
       "    <tr>\n",
       "      <th></th>\n",
       "      <th colspan=\"2\" halign=\"left\">Winrate</th>\n",
       "    </tr>\n",
       "    <tr>\n",
       "      <th>side</th>\n",
       "      <th>Blue</th>\n",
       "      <th>Red</th>\n",
       "    </tr>\n",
       "    <tr>\n",
       "      <th>elder_bins</th>\n",
       "      <th></th>\n",
       "      <th></th>\n",
       "    </tr>\n",
       "  </thead>\n",
       "  <tbody>\n",
       "    <tr>\n",
       "      <th>Less Elders</th>\n",
       "      <td>17.97</td>\n",
       "      <td>19.51</td>\n",
       "    </tr>\n",
       "    <tr>\n",
       "      <th>Same Elders</th>\n",
       "      <td>53.76</td>\n",
       "      <td>46.23</td>\n",
       "    </tr>\n",
       "    <tr>\n",
       "      <th>1 More Elder</th>\n",
       "      <td>80.33</td>\n",
       "      <td>82.01</td>\n",
       "    </tr>\n",
       "    <tr>\n",
       "      <th>2+ More Elders</th>\n",
       "      <td>82.53</td>\n",
       "      <td>82.26</td>\n",
       "    </tr>\n",
       "  </tbody>\n",
       "</table>\n",
       "</div>"
      ],
      "text/plain": [
       "               Winrate       \n",
       "side              Blue    Red\n",
       "elder_bins                   \n",
       "Less Elders      17.97  19.51\n",
       "Same Elders      53.76  46.23\n",
       "1 More Elder     80.33  82.01\n",
       "2+ More Elders   82.53  82.26"
      ]
     },
     "execution_count": 59,
     "metadata": {},
     "output_type": "execute_result"
    }
   ],
   "source": [
    "(df_obj_by_gl\n",
    " .groupby(['elder_bins', 'side'])\n",
    " [['result']].mean().unstack()\n",
    "  .rename(columns={'result': 'Winrate'}) * 100\n",
    ").round(2)"
   ]
  },
  {
   "cell_type": "code",
   "execution_count": null,
   "metadata": {},
   "outputs": [],
   "source": []
  },
  {
   "cell_type": "markdown",
   "metadata": {},
   "source": [
    "### Assessment of Missingness"
   ]
  },
  {
   "cell_type": "code",
   "execution_count": 60,
   "metadata": {},
   "outputs": [
    {
     "data": {
      "text/plain": [
       "league               0\n",
       "year                 0\n",
       "date                 0\n",
       "patch              358\n",
       "side                 0\n",
       "gamelength           0\n",
       "result               0\n",
       "dragons             68\n",
       "elders              68\n",
       "opp_elders          68\n",
       "barons             156\n",
       "opp_barons         156\n",
       "Win?                 0\n",
       "missing_dragons      0\n",
       "dtype: int64"
      ]
     },
     "execution_count": 60,
     "metadata": {},
     "output_type": "execute_result"
    }
   ],
   "source": [
    "df_teams.isna().sum()"
   ]
  },
  {
   "cell_type": "code",
   "execution_count": 61,
   "metadata": {},
   "outputs": [
    {
     "data": {
      "text/html": [
       "<div>\n",
       "<style scoped>\n",
       "    .dataframe tbody tr th:only-of-type {\n",
       "        vertical-align: middle;\n",
       "    }\n",
       "\n",
       "    .dataframe tbody tr th {\n",
       "        vertical-align: top;\n",
       "    }\n",
       "\n",
       "    .dataframe thead th {\n",
       "        text-align: right;\n",
       "    }\n",
       "</style>\n",
       "<table border=\"1\" class=\"dataframe\">\n",
       "  <thead>\n",
       "    <tr style=\"text-align: right;\">\n",
       "      <th></th>\n",
       "      <th>league</th>\n",
       "      <th>year</th>\n",
       "      <th>date</th>\n",
       "      <th>patch</th>\n",
       "      <th>side</th>\n",
       "      <th>gamelength</th>\n",
       "      <th>result</th>\n",
       "      <th>dragons</th>\n",
       "      <th>elders</th>\n",
       "      <th>opp_elders</th>\n",
       "      <th>barons</th>\n",
       "      <th>opp_barons</th>\n",
       "      <th>Win?</th>\n",
       "      <th>missing_dragons</th>\n",
       "    </tr>\n",
       "  </thead>\n",
       "  <tbody>\n",
       "    <tr>\n",
       "      <th>154</th>\n",
       "      <td>NA LCS</td>\n",
       "      <td>2014</td>\n",
       "      <td>2014-01-17 20:04:22</td>\n",
       "      <td>NaN</td>\n",
       "      <td>Blue</td>\n",
       "      <td>2848</td>\n",
       "      <td>1</td>\n",
       "      <td>0.0</td>\n",
       "      <td>0.0</td>\n",
       "      <td>0.0</td>\n",
       "      <td>3.0</td>\n",
       "      <td>0.0</td>\n",
       "      <td>Win</td>\n",
       "      <td>False</td>\n",
       "    </tr>\n",
       "    <tr>\n",
       "      <th>155</th>\n",
       "      <td>NA LCS</td>\n",
       "      <td>2014</td>\n",
       "      <td>2014-01-17 20:04:22</td>\n",
       "      <td>NaN</td>\n",
       "      <td>Red</td>\n",
       "      <td>2848</td>\n",
       "      <td>0</td>\n",
       "      <td>0.0</td>\n",
       "      <td>0.0</td>\n",
       "      <td>0.0</td>\n",
       "      <td>0.0</td>\n",
       "      <td>3.0</td>\n",
       "      <td>Loss</td>\n",
       "      <td>False</td>\n",
       "    </tr>\n",
       "    <tr>\n",
       "      <th>166</th>\n",
       "      <td>NA LCS</td>\n",
       "      <td>2014</td>\n",
       "      <td>2014-01-17 21:14:53</td>\n",
       "      <td>NaN</td>\n",
       "      <td>Blue</td>\n",
       "      <td>1815</td>\n",
       "      <td>0</td>\n",
       "      <td>0.0</td>\n",
       "      <td>0.0</td>\n",
       "      <td>0.0</td>\n",
       "      <td>0.0</td>\n",
       "      <td>1.0</td>\n",
       "      <td>Loss</td>\n",
       "      <td>False</td>\n",
       "    </tr>\n",
       "    <tr>\n",
       "      <th>167</th>\n",
       "      <td>NA LCS</td>\n",
       "      <td>2014</td>\n",
       "      <td>2014-01-17 21:14:53</td>\n",
       "      <td>NaN</td>\n",
       "      <td>Red</td>\n",
       "      <td>1815</td>\n",
       "      <td>1</td>\n",
       "      <td>0.0</td>\n",
       "      <td>0.0</td>\n",
       "      <td>0.0</td>\n",
       "      <td>1.0</td>\n",
       "      <td>0.0</td>\n",
       "      <td>Win</td>\n",
       "      <td>False</td>\n",
       "    </tr>\n",
       "    <tr>\n",
       "      <th>178</th>\n",
       "      <td>NA LCS</td>\n",
       "      <td>2014</td>\n",
       "      <td>2014-01-17 22:12:45</td>\n",
       "      <td>NaN</td>\n",
       "      <td>Blue</td>\n",
       "      <td>2297</td>\n",
       "      <td>1</td>\n",
       "      <td>0.0</td>\n",
       "      <td>0.0</td>\n",
       "      <td>0.0</td>\n",
       "      <td>1.0</td>\n",
       "      <td>1.0</td>\n",
       "      <td>Win</td>\n",
       "      <td>False</td>\n",
       "    </tr>\n",
       "    <tr>\n",
       "      <th>...</th>\n",
       "      <td>...</td>\n",
       "      <td>...</td>\n",
       "      <td>...</td>\n",
       "      <td>...</td>\n",
       "      <td>...</td>\n",
       "      <td>...</td>\n",
       "      <td>...</td>\n",
       "      <td>...</td>\n",
       "      <td>...</td>\n",
       "      <td>...</td>\n",
       "      <td>...</td>\n",
       "      <td>...</td>\n",
       "      <td>...</td>\n",
       "      <td>...</td>\n",
       "    </tr>\n",
       "    <tr>\n",
       "      <th>2267</th>\n",
       "      <td>EU CS</td>\n",
       "      <td>2014</td>\n",
       "      <td>2014-03-12 22:09:11</td>\n",
       "      <td>NaN</td>\n",
       "      <td>Red</td>\n",
       "      <td>3361</td>\n",
       "      <td>0</td>\n",
       "      <td>0.0</td>\n",
       "      <td>0.0</td>\n",
       "      <td>0.0</td>\n",
       "      <td>1.0</td>\n",
       "      <td>0.0</td>\n",
       "      <td>Loss</td>\n",
       "      <td>False</td>\n",
       "    </tr>\n",
       "    <tr>\n",
       "      <th>2278</th>\n",
       "      <td>NA CS</td>\n",
       "      <td>2014</td>\n",
       "      <td>2014-03-14 00:45:31</td>\n",
       "      <td>NaN</td>\n",
       "      <td>Blue</td>\n",
       "      <td>2322</td>\n",
       "      <td>0</td>\n",
       "      <td>0.0</td>\n",
       "      <td>0.0</td>\n",
       "      <td>0.0</td>\n",
       "      <td>0.0</td>\n",
       "      <td>2.0</td>\n",
       "      <td>Loss</td>\n",
       "      <td>False</td>\n",
       "    </tr>\n",
       "    <tr>\n",
       "      <th>2279</th>\n",
       "      <td>NA CS</td>\n",
       "      <td>2014</td>\n",
       "      <td>2014-03-14 00:45:31</td>\n",
       "      <td>NaN</td>\n",
       "      <td>Red</td>\n",
       "      <td>2322</td>\n",
       "      <td>1</td>\n",
       "      <td>0.0</td>\n",
       "      <td>0.0</td>\n",
       "      <td>0.0</td>\n",
       "      <td>2.0</td>\n",
       "      <td>0.0</td>\n",
       "      <td>Win</td>\n",
       "      <td>False</td>\n",
       "    </tr>\n",
       "    <tr>\n",
       "      <th>2290</th>\n",
       "      <td>NA CS</td>\n",
       "      <td>2014</td>\n",
       "      <td>2014-03-14 01:50:19</td>\n",
       "      <td>NaN</td>\n",
       "      <td>Blue</td>\n",
       "      <td>1912</td>\n",
       "      <td>1</td>\n",
       "      <td>0.0</td>\n",
       "      <td>0.0</td>\n",
       "      <td>0.0</td>\n",
       "      <td>1.0</td>\n",
       "      <td>0.0</td>\n",
       "      <td>Win</td>\n",
       "      <td>False</td>\n",
       "    </tr>\n",
       "    <tr>\n",
       "      <th>2291</th>\n",
       "      <td>NA CS</td>\n",
       "      <td>2014</td>\n",
       "      <td>2014-03-14 01:50:19</td>\n",
       "      <td>NaN</td>\n",
       "      <td>Red</td>\n",
       "      <td>1912</td>\n",
       "      <td>0</td>\n",
       "      <td>0.0</td>\n",
       "      <td>0.0</td>\n",
       "      <td>0.0</td>\n",
       "      <td>0.0</td>\n",
       "      <td>1.0</td>\n",
       "      <td>Loss</td>\n",
       "      <td>False</td>\n",
       "    </tr>\n",
       "  </tbody>\n",
       "</table>\n",
       "<p>358 rows × 14 columns</p>\n",
       "</div>"
      ],
      "text/plain": [
       "      league  year                date  patch  side  gamelength  result  \\\n",
       "154   NA LCS  2014 2014-01-17 20:04:22    NaN  Blue        2848       1   \n",
       "155   NA LCS  2014 2014-01-17 20:04:22    NaN   Red        2848       0   \n",
       "166   NA LCS  2014 2014-01-17 21:14:53    NaN  Blue        1815       0   \n",
       "167   NA LCS  2014 2014-01-17 21:14:53    NaN   Red        1815       1   \n",
       "178   NA LCS  2014 2014-01-17 22:12:45    NaN  Blue        2297       1   \n",
       "...      ...   ...                 ...    ...   ...         ...     ...   \n",
       "2267   EU CS  2014 2014-03-12 22:09:11    NaN   Red        3361       0   \n",
       "2278   NA CS  2014 2014-03-14 00:45:31    NaN  Blue        2322       0   \n",
       "2279   NA CS  2014 2014-03-14 00:45:31    NaN   Red        2322       1   \n",
       "2290   NA CS  2014 2014-03-14 01:50:19    NaN  Blue        1912       1   \n",
       "2291   NA CS  2014 2014-03-14 01:50:19    NaN   Red        1912       0   \n",
       "\n",
       "      dragons  elders  opp_elders  barons  opp_barons  Win?  missing_dragons  \n",
       "154       0.0     0.0         0.0     3.0         0.0   Win            False  \n",
       "155       0.0     0.0         0.0     0.0         3.0  Loss            False  \n",
       "166       0.0     0.0         0.0     0.0         1.0  Loss            False  \n",
       "167       0.0     0.0         0.0     1.0         0.0   Win            False  \n",
       "178       0.0     0.0         0.0     1.0         1.0   Win            False  \n",
       "...       ...     ...         ...     ...         ...   ...              ...  \n",
       "2267      0.0     0.0         0.0     1.0         0.0  Loss            False  \n",
       "2278      0.0     0.0         0.0     0.0         2.0  Loss            False  \n",
       "2279      0.0     0.0         0.0     2.0         0.0   Win            False  \n",
       "2290      0.0     0.0         0.0     1.0         0.0   Win            False  \n",
       "2291      0.0     0.0         0.0     0.0         1.0  Loss            False  \n",
       "\n",
       "[358 rows x 14 columns]"
      ]
     },
     "execution_count": 61,
     "metadata": {},
     "output_type": "execute_result"
    }
   ],
   "source": [
    "# For each column, see if there is a correlation between the column and the missingness of \"patch\"\n",
    "df_teams[df_teams['patch'].isna()]"
   ]
  },
  {
   "cell_type": "code",
   "execution_count": null,
   "metadata": {},
   "outputs": [],
   "source": []
  },
  {
   "cell_type": "code",
   "execution_count": null,
   "metadata": {},
   "outputs": [],
   "source": []
  },
  {
   "cell_type": "code",
   "execution_count": 62,
   "metadata": {},
   "outputs": [
    {
     "data": {
      "text/html": [
       "<div>\n",
       "<style scoped>\n",
       "    .dataframe tbody tr th:only-of-type {\n",
       "        vertical-align: middle;\n",
       "    }\n",
       "\n",
       "    .dataframe tbody tr th {\n",
       "        vertical-align: top;\n",
       "    }\n",
       "\n",
       "    .dataframe thead th {\n",
       "        text-align: right;\n",
       "    }\n",
       "</style>\n",
       "<table border=\"1\" class=\"dataframe\">\n",
       "  <thead>\n",
       "    <tr style=\"text-align: right;\">\n",
       "      <th></th>\n",
       "      <th>league</th>\n",
       "      <th>year</th>\n",
       "      <th>date</th>\n",
       "      <th>patch</th>\n",
       "      <th>side</th>\n",
       "      <th>gamelength</th>\n",
       "      <th>result</th>\n",
       "      <th>dragons</th>\n",
       "      <th>elders</th>\n",
       "      <th>opp_elders</th>\n",
       "      <th>barons</th>\n",
       "      <th>opp_barons</th>\n",
       "      <th>Win?</th>\n",
       "      <th>missing_dragons</th>\n",
       "    </tr>\n",
       "  </thead>\n",
       "  <tbody>\n",
       "    <tr>\n",
       "      <th>29446</th>\n",
       "      <td>LDL</td>\n",
       "      <td>2019</td>\n",
       "      <td>2019-03-20 05:00:00</td>\n",
       "      <td>9.05</td>\n",
       "      <td>Blue</td>\n",
       "      <td>1467</td>\n",
       "      <td>1</td>\n",
       "      <td>3.0</td>\n",
       "      <td>0.0</td>\n",
       "      <td>0.0</td>\n",
       "      <td>NaN</td>\n",
       "      <td>NaN</td>\n",
       "      <td>Win</td>\n",
       "      <td>False</td>\n",
       "    </tr>\n",
       "    <tr>\n",
       "      <th>29447</th>\n",
       "      <td>LDL</td>\n",
       "      <td>2019</td>\n",
       "      <td>2019-03-20 05:00:00</td>\n",
       "      <td>9.05</td>\n",
       "      <td>Red</td>\n",
       "      <td>1467</td>\n",
       "      <td>0</td>\n",
       "      <td>0.0</td>\n",
       "      <td>0.0</td>\n",
       "      <td>0.0</td>\n",
       "      <td>NaN</td>\n",
       "      <td>NaN</td>\n",
       "      <td>Loss</td>\n",
       "      <td>False</td>\n",
       "    </tr>\n",
       "    <tr>\n",
       "      <th>29458</th>\n",
       "      <td>LDL</td>\n",
       "      <td>2019</td>\n",
       "      <td>2019-03-20 06:00:00</td>\n",
       "      <td>9.05</td>\n",
       "      <td>Blue</td>\n",
       "      <td>1588</td>\n",
       "      <td>1</td>\n",
       "      <td>3.0</td>\n",
       "      <td>0.0</td>\n",
       "      <td>0.0</td>\n",
       "      <td>NaN</td>\n",
       "      <td>NaN</td>\n",
       "      <td>Win</td>\n",
       "      <td>False</td>\n",
       "    </tr>\n",
       "    <tr>\n",
       "      <th>29459</th>\n",
       "      <td>LDL</td>\n",
       "      <td>2019</td>\n",
       "      <td>2019-03-20 06:00:00</td>\n",
       "      <td>9.05</td>\n",
       "      <td>Red</td>\n",
       "      <td>1588</td>\n",
       "      <td>0</td>\n",
       "      <td>1.0</td>\n",
       "      <td>0.0</td>\n",
       "      <td>0.0</td>\n",
       "      <td>NaN</td>\n",
       "      <td>NaN</td>\n",
       "      <td>Loss</td>\n",
       "      <td>False</td>\n",
       "    </tr>\n",
       "    <tr>\n",
       "      <th>29470</th>\n",
       "      <td>LDL</td>\n",
       "      <td>2019</td>\n",
       "      <td>2019-03-20 07:00:00</td>\n",
       "      <td>9.05</td>\n",
       "      <td>Blue</td>\n",
       "      <td>1624</td>\n",
       "      <td>0</td>\n",
       "      <td>0.0</td>\n",
       "      <td>0.0</td>\n",
       "      <td>0.0</td>\n",
       "      <td>NaN</td>\n",
       "      <td>NaN</td>\n",
       "      <td>Loss</td>\n",
       "      <td>False</td>\n",
       "    </tr>\n",
       "    <tr>\n",
       "      <th>...</th>\n",
       "      <td>...</td>\n",
       "      <td>...</td>\n",
       "      <td>...</td>\n",
       "      <td>...</td>\n",
       "      <td>...</td>\n",
       "      <td>...</td>\n",
       "      <td>...</td>\n",
       "      <td>...</td>\n",
       "      <td>...</td>\n",
       "      <td>...</td>\n",
       "      <td>...</td>\n",
       "      <td>...</td>\n",
       "      <td>...</td>\n",
       "      <td>...</td>\n",
       "    </tr>\n",
       "    <tr>\n",
       "      <th>35831</th>\n",
       "      <td>LDL</td>\n",
       "      <td>2019</td>\n",
       "      <td>2019-03-31 11:00:00</td>\n",
       "      <td>9.05</td>\n",
       "      <td>Red</td>\n",
       "      <td>1680</td>\n",
       "      <td>1</td>\n",
       "      <td>3.0</td>\n",
       "      <td>0.0</td>\n",
       "      <td>0.0</td>\n",
       "      <td>NaN</td>\n",
       "      <td>NaN</td>\n",
       "      <td>Win</td>\n",
       "      <td>False</td>\n",
       "    </tr>\n",
       "    <tr>\n",
       "      <th>40798</th>\n",
       "      <td>LDL</td>\n",
       "      <td>2019</td>\n",
       "      <td>2019-04-23 07:00:00</td>\n",
       "      <td>9.07</td>\n",
       "      <td>Blue</td>\n",
       "      <td>1776</td>\n",
       "      <td>0</td>\n",
       "      <td>0.0</td>\n",
       "      <td>0.0</td>\n",
       "      <td>0.0</td>\n",
       "      <td>NaN</td>\n",
       "      <td>NaN</td>\n",
       "      <td>Loss</td>\n",
       "      <td>False</td>\n",
       "    </tr>\n",
       "    <tr>\n",
       "      <th>40799</th>\n",
       "      <td>LDL</td>\n",
       "      <td>2019</td>\n",
       "      <td>2019-04-23 07:00:00</td>\n",
       "      <td>9.07</td>\n",
       "      <td>Red</td>\n",
       "      <td>1776</td>\n",
       "      <td>1</td>\n",
       "      <td>4.0</td>\n",
       "      <td>0.0</td>\n",
       "      <td>0.0</td>\n",
       "      <td>NaN</td>\n",
       "      <td>NaN</td>\n",
       "      <td>Win</td>\n",
       "      <td>False</td>\n",
       "    </tr>\n",
       "    <tr>\n",
       "      <th>92098</th>\n",
       "      <td>LDL</td>\n",
       "      <td>2019</td>\n",
       "      <td>2019-09-16 11:22:00</td>\n",
       "      <td>9.16</td>\n",
       "      <td>Blue</td>\n",
       "      <td>2315</td>\n",
       "      <td>0</td>\n",
       "      <td>1.0</td>\n",
       "      <td>0.0</td>\n",
       "      <td>0.0</td>\n",
       "      <td>NaN</td>\n",
       "      <td>NaN</td>\n",
       "      <td>Loss</td>\n",
       "      <td>False</td>\n",
       "    </tr>\n",
       "    <tr>\n",
       "      <th>92099</th>\n",
       "      <td>LDL</td>\n",
       "      <td>2019</td>\n",
       "      <td>2019-09-16 11:22:00</td>\n",
       "      <td>9.16</td>\n",
       "      <td>Red</td>\n",
       "      <td>2315</td>\n",
       "      <td>1</td>\n",
       "      <td>4.0</td>\n",
       "      <td>0.0</td>\n",
       "      <td>0.0</td>\n",
       "      <td>NaN</td>\n",
       "      <td>NaN</td>\n",
       "      <td>Win</td>\n",
       "      <td>False</td>\n",
       "    </tr>\n",
       "  </tbody>\n",
       "</table>\n",
       "<p>156 rows × 14 columns</p>\n",
       "</div>"
      ],
      "text/plain": [
       "      league  year                date  patch  side  gamelength  result  \\\n",
       "29446    LDL  2019 2019-03-20 05:00:00   9.05  Blue        1467       1   \n",
       "29447    LDL  2019 2019-03-20 05:00:00   9.05   Red        1467       0   \n",
       "29458    LDL  2019 2019-03-20 06:00:00   9.05  Blue        1588       1   \n",
       "29459    LDL  2019 2019-03-20 06:00:00   9.05   Red        1588       0   \n",
       "29470    LDL  2019 2019-03-20 07:00:00   9.05  Blue        1624       0   \n",
       "...      ...   ...                 ...    ...   ...         ...     ...   \n",
       "35831    LDL  2019 2019-03-31 11:00:00   9.05   Red        1680       1   \n",
       "40798    LDL  2019 2019-04-23 07:00:00   9.07  Blue        1776       0   \n",
       "40799    LDL  2019 2019-04-23 07:00:00   9.07   Red        1776       1   \n",
       "92098    LDL  2019 2019-09-16 11:22:00   9.16  Blue        2315       0   \n",
       "92099    LDL  2019 2019-09-16 11:22:00   9.16   Red        2315       1   \n",
       "\n",
       "       dragons  elders  opp_elders  barons  opp_barons  Win?  missing_dragons  \n",
       "29446      3.0     0.0         0.0     NaN         NaN   Win            False  \n",
       "29447      0.0     0.0         0.0     NaN         NaN  Loss            False  \n",
       "29458      3.0     0.0         0.0     NaN         NaN   Win            False  \n",
       "29459      1.0     0.0         0.0     NaN         NaN  Loss            False  \n",
       "29470      0.0     0.0         0.0     NaN         NaN  Loss            False  \n",
       "...        ...     ...         ...     ...         ...   ...              ...  \n",
       "35831      3.0     0.0         0.0     NaN         NaN   Win            False  \n",
       "40798      0.0     0.0         0.0     NaN         NaN  Loss            False  \n",
       "40799      4.0     0.0         0.0     NaN         NaN   Win            False  \n",
       "92098      1.0     0.0         0.0     NaN         NaN  Loss            False  \n",
       "92099      4.0     0.0         0.0     NaN         NaN   Win            False  \n",
       "\n",
       "[156 rows x 14 columns]"
      ]
     },
     "execution_count": 62,
     "metadata": {},
     "output_type": "execute_result"
    }
   ],
   "source": [
    "df_teams[df_teams['barons'].isna()]"
   ]
  },
  {
   "cell_type": "code",
   "execution_count": 71,
   "metadata": {},
   "outputs": [
    {
     "data": {
      "text/plain": [
       "league             0.000000\n",
       "year               0.000000\n",
       "date               0.000000\n",
       "side               0.000000\n",
       "gamelength         0.000000\n",
       "result             0.000000\n",
       "Win?               0.000000\n",
       "missing_dragons    0.000000\n",
       "dragons            0.056411\n",
       "elders             0.056411\n",
       "opp_elders         0.056411\n",
       "barons             0.129413\n",
       "opp_barons         0.129413\n",
       "patch              0.296987\n",
       "dtype: float64"
      ]
     },
     "execution_count": 71,
     "metadata": {},
     "output_type": "execute_result"
    }
   ],
   "source": [
    "df_teams.isna().mean().sort_values()"
   ]
  },
  {
   "cell_type": "code",
   "execution_count": 95,
   "metadata": {},
   "outputs": [
    {
     "data": {
      "text/plain": [
       "[league\n",
       " LDL     0.029714\n",
       " AL      0.000000\n",
       " LRS     0.000000\n",
       " NEST    0.000000\n",
       " NERD    0.000000\n",
       " Name: barons_isna, dtype: float64,\n",
       " year\n",
       " 2019    0.010068\n",
       " 2014    0.000000\n",
       " 2015    0.000000\n",
       " 2016    0.000000\n",
       " 2017    0.000000\n",
       " Name: barons_isna, dtype: float64,\n",
       " date\n",
       " 2019-03-29 07:00:00    1.0\n",
       " 2019-03-25 07:00:00    1.0\n",
       " 2019-03-25 08:00:00    1.0\n",
       " 2019-03-31 08:00:00    1.0\n",
       " 2019-03-25 09:00:00    1.0\n",
       " Name: barons_isna, dtype: float64,\n",
       " patch\n",
       " 9.05     0.116208\n",
       " 9.07     0.004184\n",
       " 9.16     0.002304\n",
       " 3.15     0.000000\n",
       " 10.24    0.000000\n",
       " Name: barons_isna, dtype: float64,\n",
       " side\n",
       " Blue    0.001294\n",
       " Red     0.001294\n",
       " Name: barons_isna, dtype: float64,\n",
       " gamelength\n",
       " 1088    1.000000\n",
       " 1284    0.142857\n",
       " 2949    0.125000\n",
       " 2602    0.111111\n",
       " 1178    0.090909\n",
       " Name: barons_isna, dtype: float64,\n",
       " result\n",
       " 1    0.001294\n",
       " 0    0.001294\n",
       " Name: barons_isna, dtype: float64,\n",
       " dragons\n",
       " 6.0    0.003546\n",
       " 2.0    0.001623\n",
       " 1.0    0.001582\n",
       " 4.0    0.001346\n",
       " 3.0    0.001180\n",
       " Name: barons_isna, dtype: float64,\n",
       " elders\n",
       " 2.0    0.001845\n",
       " 0.0    0.001338\n",
       " 1.0    0.000571\n",
       " 3.0    0.000000\n",
       " 4.0    0.000000\n",
       " Name: barons_isna, dtype: float64,\n",
       " opp_elders\n",
       " 2.0    0.001845\n",
       " 0.0    0.001338\n",
       " 1.0    0.000571\n",
       " 3.0    0.000000\n",
       " 4.0    0.000000\n",
       " Name: barons_isna, dtype: float64,\n",
       " opp_barons\n",
       " 0.0    0.0\n",
       " 1.0    0.0\n",
       " 2.0    0.0\n",
       " 3.0    0.0\n",
       " 4.0    0.0\n",
       " Name: barons_isna, dtype: float64,\n",
       " Win?\n",
       " Win     0.001294\n",
       " Loss    0.001294\n",
       " Name: barons_isna, dtype: float64,\n",
       " missing_dragons\n",
       " False    0.001295\n",
       " True     0.000000\n",
       " Name: barons_isna, dtype: float64]"
      ]
     },
     "execution_count": 95,
     "metadata": {},
     "output_type": "execute_result"
    }
   ],
   "source": [
    "def find_na(df, na_col):\n",
    "    newcol = na_col + '_isna'\n",
    "    df = df.copy()\n",
    "    df = df.assign(**{newcol:df[na_col].isna()})\n",
    "    result = []\n",
    "    for col in df.columns:\n",
    "        if col in [na_col, newcol]:\n",
    "            continue\n",
    "        result.append(df.groupby(col)[newcol].mean().sort_values(ascending=False).head())\n",
    "    return result\n",
    "find_na(df_teams, 'barons')"
   ]
  },
  {
   "cell_type": "code",
   "execution_count": 63,
   "metadata": {
    "ExecuteTime": {
     "end_time": "2019-10-31T23:36:28.662099Z",
     "start_time": "2019-10-31T23:36:28.660016Z"
    }
   },
   "outputs": [
    {
     "data": {
      "text/plain": [
       "Index(['gameid', 'league', 'year', 'date', 'patch', 'side', 'position',\n",
       "       'playername', 'teamname', 'champion', 'gamelength', 'result', 'dragons',\n",
       "       'elders', 'opp_elders', 'barons', 'opp_barons', 'Win?'],\n",
       "      dtype='object')"
      ]
     },
     "execution_count": 63,
     "metadata": {},
     "output_type": "execute_result"
    }
   ],
   "source": [
    "# TODO\n",
    "# We believe the \"elders\" are not missing at random\n",
    "#10 of those rows are for the individual players, and 2 are for the teams. The player columns have champions while the teams\n",
    "#do not, since they can be infered from the player rows.\n",
    "# We believe that the missingness found in the 'side' \n",
    "df.columns\n"
   ]
  },
  {
   "cell_type": "markdown",
   "metadata": {},
   "source": [
    "### Hypothesis Testing"
   ]
  },
  {
   "cell_type": "code",
   "execution_count": 64,
   "metadata": {
    "ExecuteTime": {
     "end_time": "2019-10-31T23:36:28.666489Z",
     "start_time": "2019-10-31T23:36:28.664381Z"
    }
   },
   "outputs": [],
   "source": [
    "# TODO"
   ]
  }
 ],
 "metadata": {
  "kernelspec": {
   "display_name": "Python 3 (ipykernel)",
   "language": "python",
   "name": "python3"
  },
  "language_info": {
   "codemirror_mode": {
    "name": "ipython",
    "version": 3
   },
   "file_extension": ".py",
   "mimetype": "text/x-python",
   "name": "python",
   "nbconvert_exporter": "python",
   "pygments_lexer": "ipython3",
   "version": "3.8.18"
  }
 },
 "nbformat": 4,
 "nbformat_minor": 2
}
